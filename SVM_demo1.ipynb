{
  "nbformat": 4,
  "nbformat_minor": 0,
  "metadata": {
    "colab": {
      "provenance": [],
      "authorship_tag": "ABX9TyMpAzlV7lagIU6/yK8KrlaV",
      "include_colab_link": true
    },
    "kernelspec": {
      "name": "python3",
      "display_name": "Python 3"
    },
    "language_info": {
      "name": "python"
    }
  },
  "cells": [
    {
      "cell_type": "markdown",
      "metadata": {
        "id": "view-in-github",
        "colab_type": "text"
      },
      "source": [
        "<a href=\"https://colab.research.google.com/github/ronupanchal/ML_Algorithm_code/blob/main/SVM_demo1.ipynb\" target=\"_parent\"><img src=\"https://colab.research.google.com/assets/colab-badge.svg\" alt=\"Open In Colab\"/></a>"
      ]
    },
    {
      "cell_type": "code",
      "execution_count": 1,
      "metadata": {
        "id": "KADosaBGMIw1"
      },
      "outputs": [],
      "source": [
        "# Support Vector Machine (SVM) with 'linear' kernel\n",
        "\n",
        "# Importing the libraries\n",
        "import numpy as np\n",
        "import matplotlib.pyplot as plt\n",
        "import pandas as pd"
      ]
    },
    {
      "cell_type": "code",
      "source": [
        "# Importing the dataset\n",
        "dataset = pd.read_csv('/content/Social_Network_Ads.csv')\n",
        "dataset.head()"
      ],
      "metadata": {
        "colab": {
          "base_uri": "https://localhost:8080/",
          "height": 206
        },
        "id": "ZLLMNiBcNMZt",
        "outputId": "84af6b4a-7cad-46ef-b421-40246de4ecf9"
      },
      "execution_count": 3,
      "outputs": [
        {
          "output_type": "execute_result",
          "data": {
            "text/plain": [
              "    User ID  Gender   Age  EstimatedSalary  Purchased\n",
              "0  15624510    Male  19.0          19000.0          0\n",
              "1  15810944    Male  35.0          20000.0          0\n",
              "2  15668575  Female  26.0          43000.0          0\n",
              "3  15603246  Female  27.0          57000.0          0\n",
              "4  15804002    Male  19.0          76000.0          0"
            ],
            "text/html": [
              "\n",
              "  <div id=\"df-ae29ab1b-add4-43c9-881e-e88921ec0fce\">\n",
              "    <div class=\"colab-df-container\">\n",
              "      <div>\n",
              "<style scoped>\n",
              "    .dataframe tbody tr th:only-of-type {\n",
              "        vertical-align: middle;\n",
              "    }\n",
              "\n",
              "    .dataframe tbody tr th {\n",
              "        vertical-align: top;\n",
              "    }\n",
              "\n",
              "    .dataframe thead th {\n",
              "        text-align: right;\n",
              "    }\n",
              "</style>\n",
              "<table border=\"1\" class=\"dataframe\">\n",
              "  <thead>\n",
              "    <tr style=\"text-align: right;\">\n",
              "      <th></th>\n",
              "      <th>User ID</th>\n",
              "      <th>Gender</th>\n",
              "      <th>Age</th>\n",
              "      <th>EstimatedSalary</th>\n",
              "      <th>Purchased</th>\n",
              "    </tr>\n",
              "  </thead>\n",
              "  <tbody>\n",
              "    <tr>\n",
              "      <th>0</th>\n",
              "      <td>15624510</td>\n",
              "      <td>Male</td>\n",
              "      <td>19.0</td>\n",
              "      <td>19000.0</td>\n",
              "      <td>0</td>\n",
              "    </tr>\n",
              "    <tr>\n",
              "      <th>1</th>\n",
              "      <td>15810944</td>\n",
              "      <td>Male</td>\n",
              "      <td>35.0</td>\n",
              "      <td>20000.0</td>\n",
              "      <td>0</td>\n",
              "    </tr>\n",
              "    <tr>\n",
              "      <th>2</th>\n",
              "      <td>15668575</td>\n",
              "      <td>Female</td>\n",
              "      <td>26.0</td>\n",
              "      <td>43000.0</td>\n",
              "      <td>0</td>\n",
              "    </tr>\n",
              "    <tr>\n",
              "      <th>3</th>\n",
              "      <td>15603246</td>\n",
              "      <td>Female</td>\n",
              "      <td>27.0</td>\n",
              "      <td>57000.0</td>\n",
              "      <td>0</td>\n",
              "    </tr>\n",
              "    <tr>\n",
              "      <th>4</th>\n",
              "      <td>15804002</td>\n",
              "      <td>Male</td>\n",
              "      <td>19.0</td>\n",
              "      <td>76000.0</td>\n",
              "      <td>0</td>\n",
              "    </tr>\n",
              "  </tbody>\n",
              "</table>\n",
              "</div>\n",
              "      <button class=\"colab-df-convert\" onclick=\"convertToInteractive('df-ae29ab1b-add4-43c9-881e-e88921ec0fce')\"\n",
              "              title=\"Convert this dataframe to an interactive table.\"\n",
              "              style=\"display:none;\">\n",
              "        \n",
              "  <svg xmlns=\"http://www.w3.org/2000/svg\" height=\"24px\"viewBox=\"0 0 24 24\"\n",
              "       width=\"24px\">\n",
              "    <path d=\"M0 0h24v24H0V0z\" fill=\"none\"/>\n",
              "    <path d=\"M18.56 5.44l.94 2.06.94-2.06 2.06-.94-2.06-.94-.94-2.06-.94 2.06-2.06.94zm-11 1L8.5 8.5l.94-2.06 2.06-.94-2.06-.94L8.5 2.5l-.94 2.06-2.06.94zm10 10l.94 2.06.94-2.06 2.06-.94-2.06-.94-.94-2.06-.94 2.06-2.06.94z\"/><path d=\"M17.41 7.96l-1.37-1.37c-.4-.4-.92-.59-1.43-.59-.52 0-1.04.2-1.43.59L10.3 9.45l-7.72 7.72c-.78.78-.78 2.05 0 2.83L4 21.41c.39.39.9.59 1.41.59.51 0 1.02-.2 1.41-.59l7.78-7.78 2.81-2.81c.8-.78.8-2.07 0-2.86zM5.41 20L4 18.59l7.72-7.72 1.47 1.35L5.41 20z\"/>\n",
              "  </svg>\n",
              "      </button>\n",
              "      \n",
              "  <style>\n",
              "    .colab-df-container {\n",
              "      display:flex;\n",
              "      flex-wrap:wrap;\n",
              "      gap: 12px;\n",
              "    }\n",
              "\n",
              "    .colab-df-convert {\n",
              "      background-color: #E8F0FE;\n",
              "      border: none;\n",
              "      border-radius: 50%;\n",
              "      cursor: pointer;\n",
              "      display: none;\n",
              "      fill: #1967D2;\n",
              "      height: 32px;\n",
              "      padding: 0 0 0 0;\n",
              "      width: 32px;\n",
              "    }\n",
              "\n",
              "    .colab-df-convert:hover {\n",
              "      background-color: #E2EBFA;\n",
              "      box-shadow: 0px 1px 2px rgba(60, 64, 67, 0.3), 0px 1px 3px 1px rgba(60, 64, 67, 0.15);\n",
              "      fill: #174EA6;\n",
              "    }\n",
              "\n",
              "    [theme=dark] .colab-df-convert {\n",
              "      background-color: #3B4455;\n",
              "      fill: #D2E3FC;\n",
              "    }\n",
              "\n",
              "    [theme=dark] .colab-df-convert:hover {\n",
              "      background-color: #434B5C;\n",
              "      box-shadow: 0px 1px 3px 1px rgba(0, 0, 0, 0.15);\n",
              "      filter: drop-shadow(0px 1px 2px rgba(0, 0, 0, 0.3));\n",
              "      fill: #FFFFFF;\n",
              "    }\n",
              "  </style>\n",
              "\n",
              "      <script>\n",
              "        const buttonEl =\n",
              "          document.querySelector('#df-ae29ab1b-add4-43c9-881e-e88921ec0fce button.colab-df-convert');\n",
              "        buttonEl.style.display =\n",
              "          google.colab.kernel.accessAllowed ? 'block' : 'none';\n",
              "\n",
              "        async function convertToInteractive(key) {\n",
              "          const element = document.querySelector('#df-ae29ab1b-add4-43c9-881e-e88921ec0fce');\n",
              "          const dataTable =\n",
              "            await google.colab.kernel.invokeFunction('convertToInteractive',\n",
              "                                                     [key], {});\n",
              "          if (!dataTable) return;\n",
              "\n",
              "          const docLinkHtml = 'Like what you see? Visit the ' +\n",
              "            '<a target=\"_blank\" href=https://colab.research.google.com/notebooks/data_table.ipynb>data table notebook</a>'\n",
              "            + ' to learn more about interactive tables.';\n",
              "          element.innerHTML = '';\n",
              "          dataTable['output_type'] = 'display_data';\n",
              "          await google.colab.output.renderOutput(dataTable, element);\n",
              "          const docLink = document.createElement('div');\n",
              "          docLink.innerHTML = docLinkHtml;\n",
              "          element.appendChild(docLink);\n",
              "        }\n",
              "      </script>\n",
              "    </div>\n",
              "  </div>\n",
              "  "
            ]
          },
          "metadata": {},
          "execution_count": 3
        }
      ]
    },
    {
      "cell_type": "code",
      "source": [
        "X = dataset.iloc[:, [2, 3]].values\n",
        "y = dataset.iloc[:, 4].values"
      ],
      "metadata": {
        "id": "zRaENb7_3cVH"
      },
      "execution_count": 4,
      "outputs": []
    },
    {
      "cell_type": "code",
      "source": [
        "# Splitting the dataset into the Training set and Test set\n",
        "from sklearn.model_selection import train_test_split\n",
        "X_train, X_test, y_train, y_test = train_test_split(X, y, test_size = 0.25, random_state = 0)"
      ],
      "metadata": {
        "id": "InaaHZpCMddo"
      },
      "execution_count": 5,
      "outputs": []
    },
    {
      "cell_type": "code",
      "source": [
        "X_train"
      ],
      "metadata": {
        "colab": {
          "base_uri": "https://localhost:8080/"
        },
        "id": "ECLrxMEF8HiD",
        "outputId": "c90ac2f9-4b79-42e0-ebf6-a517c23d9c91"
      },
      "execution_count": 6,
      "outputs": [
        {
          "output_type": "execute_result",
          "data": {
            "text/plain": [
              "array([[4.40e+01, 3.90e+04],\n",
              "       [3.20e+01, 1.20e+05],\n",
              "       [3.80e+01, 5.00e+04],\n",
              "       [3.20e+01, 1.35e+05],\n",
              "       [5.20e+01, 2.10e+04],\n",
              "       [5.30e+01, 1.04e+05],\n",
              "       [3.90e+01, 4.20e+04],\n",
              "       [3.80e+01, 6.10e+04],\n",
              "       [3.60e+01, 5.00e+04],\n",
              "       [3.60e+01, 6.30e+04],\n",
              "       [3.50e+01, 2.50e+04],\n",
              "       [3.50e+01, 5.00e+04],\n",
              "       [4.20e+01, 7.30e+04],\n",
              "       [4.70e+01, 4.90e+04],\n",
              "       [5.90e+01, 2.90e+04],\n",
              "       [4.90e+01, 6.50e+04],\n",
              "       [4.50e+01, 1.31e+05],\n",
              "       [3.10e+01, 8.90e+04],\n",
              "       [4.60e+01, 8.20e+04],\n",
              "       [4.70e+01, 5.10e+04],\n",
              "       [2.60e+01, 1.50e+04],\n",
              "       [6.00e+01, 1.02e+05],\n",
              "       [3.80e+01, 1.12e+05],\n",
              "       [4.00e+01, 1.07e+05],\n",
              "       [4.20e+01, 5.30e+04],\n",
              "       [3.50e+01, 5.90e+04],\n",
              "       [4.80e+01, 4.10e+04],\n",
              "       [4.80e+01, 1.34e+05],\n",
              "       [3.80e+01, 1.13e+05],\n",
              "       [2.90e+01, 1.48e+05],\n",
              "       [2.60e+01, 1.50e+04],\n",
              "       [6.00e+01, 4.20e+04],\n",
              "       [2.40e+01, 1.90e+04],\n",
              "       [4.20e+01, 1.49e+05],\n",
              "       [4.60e+01, 9.60e+04],\n",
              "       [2.80e+01, 5.90e+04],\n",
              "       [3.90e+01, 9.60e+04],\n",
              "       [2.80e+01, 8.90e+04],\n",
              "       [4.10e+01, 7.20e+04],\n",
              "       [4.50e+01, 2.60e+04],\n",
              "       [3.30e+01, 6.90e+04],\n",
              "       [2.00e+01, 8.20e+04],\n",
              "       [3.10e+01, 7.40e+04],\n",
              "       [4.20e+01, 8.00e+04],\n",
              "       [3.50e+01, 7.20e+04],\n",
              "       [3.30e+01, 1.49e+05],\n",
              "       [4.00e+01, 7.10e+04],\n",
              "       [5.10e+01, 1.46e+05],\n",
              "       [4.60e+01, 7.90e+04],\n",
              "       [3.50e+01, 7.50e+04],\n",
              "       [3.80e+01, 5.10e+04],\n",
              "       [3.60e+01, 7.50e+04],\n",
              "       [3.70e+01, 7.80e+04],\n",
              "       [3.80e+01, 6.10e+04],\n",
              "       [6.00e+01, 1.08e+05],\n",
              "       [2.00e+01, 8.20e+04],\n",
              "       [5.70e+01, 7.40e+04],\n",
              "       [4.20e+01, 6.50e+04],\n",
              "       [2.60e+01, 8.00e+04],\n",
              "       [4.60e+01, 1.17e+05],\n",
              "       [3.50e+01, 6.10e+04],\n",
              "       [2.10e+01, 6.80e+04],\n",
              "       [2.80e+01, 4.40e+04],\n",
              "       [4.10e+01, 8.70e+04],\n",
              "       [3.70e+01, 3.30e+04],\n",
              "       [2.70e+01, 9.00e+04],\n",
              "       [3.90e+01, 4.20e+04],\n",
              "       [2.80e+01, 1.23e+05],\n",
              "       [3.10e+01, 1.18e+05],\n",
              "       [2.50e+01, 8.70e+04],\n",
              "       [3.50e+01, 7.10e+04],\n",
              "       [3.70e+01, 7.00e+04],\n",
              "       [3.50e+01, 3.90e+04],\n",
              "       [4.70e+01, 2.30e+04],\n",
              "       [3.50e+01, 1.47e+05],\n",
              "       [4.80e+01, 1.38e+05],\n",
              "       [2.60e+01, 8.60e+04],\n",
              "       [2.50e+01, 7.90e+04],\n",
              "       [5.20e+01, 1.38e+05],\n",
              "       [5.10e+01, 2.30e+04],\n",
              "       [3.50e+01, 6.00e+04],\n",
              "       [3.30e+01, 1.13e+05],\n",
              "       [3.00e+01, 1.07e+05],\n",
              "       [4.80e+01, 3.30e+04],\n",
              "       [4.10e+01, 8.00e+04],\n",
              "       [4.80e+01, 9.60e+04],\n",
              "       [3.10e+01, 1.80e+04],\n",
              "       [3.10e+01, 7.10e+04],\n",
              "       [4.30e+01, 1.29e+05],\n",
              "       [5.90e+01, 7.60e+04],\n",
              "       [1.80e+01, 4.40e+04],\n",
              "       [3.60e+01, 1.18e+05],\n",
              "       [4.20e+01, 9.00e+04],\n",
              "       [4.70e+01, 3.00e+04],\n",
              "       [2.60e+01, 4.30e+04],\n",
              "       [4.00e+01, 7.80e+04],\n",
              "       [4.60e+01, 5.90e+04],\n",
              "       [5.90e+01, 4.20e+04],\n",
              "       [4.60e+01, 7.40e+04],\n",
              "       [3.50e+01, 9.10e+04],\n",
              "       [2.80e+01, 5.90e+04],\n",
              "       [4.00e+01, 5.70e+04],\n",
              "       [5.90e+01, 1.43e+05],\n",
              "       [5.70e+01, 2.60e+04],\n",
              "       [5.20e+01, 3.80e+04],\n",
              "       [4.70e+01, 1.13e+05],\n",
              "       [5.30e+01, 1.43e+05],\n",
              "       [3.50e+01, 2.70e+04],\n",
              "       [5.80e+01, 1.01e+05],\n",
              "       [4.50e+01, 4.50e+04],\n",
              "       [2.30e+01, 8.20e+04],\n",
              "       [4.60e+01, 2.30e+04],\n",
              "       [4.20e+01, 6.50e+04],\n",
              "       [2.80e+01, 8.40e+04],\n",
              "       [3.80e+01, 5.90e+04],\n",
              "       [2.60e+01, 8.40e+04],\n",
              "       [2.90e+01, 2.80e+04],\n",
              "       [3.70e+01, 7.10e+04],\n",
              "       [2.20e+01, 5.50e+04],\n",
              "       [4.80e+01, 3.50e+04],\n",
              "       [4.90e+01, 2.80e+04],\n",
              "       [3.80e+01, 6.50e+04],\n",
              "       [2.70e+01, 1.70e+04],\n",
              "       [4.60e+01, 2.80e+04],\n",
              "       [4.80e+01, 1.41e+05],\n",
              "       [2.60e+01, 1.70e+04],\n",
              "       [3.50e+01, 9.70e+04],\n",
              "       [3.90e+01, 5.90e+04],\n",
              "       [2.40e+01, 2.70e+04],\n",
              "       [3.20e+01, 1.80e+04],\n",
              "       [4.60e+01, 8.80e+04],\n",
              "       [3.50e+01, 5.80e+04],\n",
              "       [5.60e+01, 6.00e+04],\n",
              "       [4.70e+01, 3.40e+04],\n",
              "       [4.00e+01, 7.20e+04],\n",
              "       [3.20e+01, 1.00e+05],\n",
              "       [1.90e+01, 2.10e+04],\n",
              "       [2.50e+01, 9.00e+04],\n",
              "       [3.50e+01, 8.80e+04],\n",
              "       [2.80e+01, 3.20e+04],\n",
              "       [5.00e+01, 2.00e+04],\n",
              "       [4.00e+01, 5.90e+04],\n",
              "       [5.00e+01, 4.40e+04],\n",
              "       [3.50e+01, 7.20e+04],\n",
              "       [4.00e+01, 1.42e+05],\n",
              "       [4.60e+01, 3.20e+04],\n",
              "       [3.90e+01, 7.10e+04],\n",
              "       [2.00e+01, 7.40e+04],\n",
              "       [2.90e+01, 7.50e+04],\n",
              "       [3.10e+01, 7.60e+04],\n",
              "       [4.70e+01, 2.50e+04],\n",
              "       [4.00e+01, 6.10e+04],\n",
              "       [3.40e+01, 1.12e+05],\n",
              "       [3.80e+01, 8.00e+04],\n",
              "       [4.20e+01, 7.50e+04],\n",
              "       [4.70e+01, 4.70e+04],\n",
              "       [3.90e+01, 7.50e+04],\n",
              "       [1.90e+01, 2.50e+04],\n",
              "       [3.70e+01, 8.00e+04],\n",
              "       [3.60e+01, 6.00e+04],\n",
              "       [4.10e+01, 5.20e+04],\n",
              "       [3.60e+01, 1.25e+05],\n",
              "       [4.80e+01, 2.90e+04],\n",
              "       [3.60e+01, 1.26e+05],\n",
              "       [5.10e+01, 1.34e+05],\n",
              "       [2.70e+01, 5.70e+04],\n",
              "       [3.80e+01, 7.10e+04],\n",
              "       [3.90e+01, 6.10e+04],\n",
              "       [2.20e+01, 2.70e+04],\n",
              "       [3.30e+01, 6.00e+04],\n",
              "       [4.80e+01, 7.40e+04],\n",
              "       [5.80e+01, 2.30e+04],\n",
              "       [5.30e+01, 7.20e+04],\n",
              "       [3.20e+01, 1.17e+05],\n",
              "       [5.40e+01, 7.00e+04],\n",
              "       [3.00e+01, 8.00e+04],\n",
              "       [5.80e+01, 9.50e+04],\n",
              "       [2.60e+01, 5.20e+04],\n",
              "       [4.50e+01, 7.90e+04],\n",
              "       [2.40e+01, 5.50e+04],\n",
              "       [4.00e+01, 7.50e+04],\n",
              "       [3.30e+01, 2.80e+04],\n",
              "       [4.40e+01, 1.39e+05],\n",
              "       [2.20e+01, 1.80e+04],\n",
              "       [3.30e+01, 5.10e+04],\n",
              "       [4.30e+01, 1.33e+05],\n",
              "       [2.40e+01, 3.20e+04],\n",
              "       [4.60e+01, 2.20e+04],\n",
              "       [3.50e+01, 5.50e+04],\n",
              "       [5.40e+01, 1.04e+05],\n",
              "       [4.80e+01, 1.19e+05],\n",
              "       [3.50e+01, 5.30e+04],\n",
              "       [3.70e+01, 1.44e+05],\n",
              "       [2.30e+01, 6.60e+04],\n",
              "       [3.70e+01, 1.37e+05],\n",
              "       [3.10e+01, 5.80e+04],\n",
              "       [3.30e+01, 4.10e+04],\n",
              "       [4.50e+01, 2.20e+04],\n",
              "       [3.00e+01, 1.50e+04],\n",
              "       [1.90e+01, 1.90e+04],\n",
              "       [4.90e+01, 7.40e+04],\n",
              "       [3.90e+01, 1.22e+05],\n",
              "       [3.50e+01, 7.30e+04],\n",
              "       [3.90e+01, 7.10e+04],\n",
              "       [2.40e+01, 2.30e+04],\n",
              "       [4.10e+01, 7.20e+04],\n",
              "       [2.90e+01, 8.30e+04],\n",
              "       [5.40e+01, 2.60e+04],\n",
              "       [3.50e+01, 4.40e+04],\n",
              "       [3.70e+01, 7.50e+04],\n",
              "       [2.90e+01, 4.70e+04],\n",
              "       [3.10e+01, 6.80e+04],\n",
              "       [4.20e+01, 5.40e+04],\n",
              "       [3.00e+01, 1.35e+05],\n",
              "       [5.20e+01, 1.14e+05],\n",
              "       [5.00e+01, 3.60e+04],\n",
              "       [5.60e+01, 1.33e+05],\n",
              "       [2.90e+01, 6.10e+04],\n",
              "       [3.00e+01, 8.90e+04],\n",
              "       [2.60e+01, 1.60e+04],\n",
              "       [3.30e+01, 3.10e+04],\n",
              "       [4.10e+01, 7.20e+04],\n",
              "       [3.60e+01, 3.30e+04],\n",
              "       [5.50e+01, 1.25e+05],\n",
              "       [4.80e+01, 1.31e+05],\n",
              "       [4.10e+01, 7.10e+04],\n",
              "       [3.00e+01, 6.20e+04],\n",
              "       [3.70e+01, 7.20e+04],\n",
              "       [4.10e+01, 6.30e+04],\n",
              "       [5.80e+01, 4.70e+04],\n",
              "       [3.00e+01, 1.16e+05],\n",
              "       [2.00e+01, 4.90e+04],\n",
              "       [3.70e+01, 7.40e+04],\n",
              "       [4.10e+01, 5.90e+04],\n",
              "       [4.90e+01, 8.90e+04],\n",
              "       [2.80e+01, 7.90e+04],\n",
              "       [5.30e+01, 8.20e+04],\n",
              "       [4.00e+01, 5.70e+04],\n",
              "       [6.00e+01, 3.40e+04],\n",
              "       [3.50e+01, 1.08e+05],\n",
              "       [2.10e+01, 7.20e+04],\n",
              "       [3.80e+01, 7.10e+04],\n",
              "       [3.90e+01, 1.06e+05],\n",
              "       [3.70e+01, 5.70e+04],\n",
              "       [2.60e+01, 7.20e+04],\n",
              "       [3.50e+01, 2.30e+04],\n",
              "       [5.40e+01, 1.08e+05],\n",
              "       [3.00e+01, 1.70e+04],\n",
              "       [3.90e+01, 1.34e+05],\n",
              "       [2.90e+01, 4.30e+04],\n",
              "       [3.30e+01, 4.30e+04],\n",
              "       [3.50e+01, 3.80e+04],\n",
              "       [4.10e+01, 4.50e+04],\n",
              "       [4.10e+01, 7.20e+04],\n",
              "       [3.90e+01, 1.34e+05],\n",
              "       [2.70e+01, 1.37e+05],\n",
              "       [2.10e+01, 1.60e+04],\n",
              "       [2.60e+01, 3.20e+04],\n",
              "       [3.10e+01, 6.60e+04],\n",
              "       [3.90e+01, 7.30e+04],\n",
              "       [4.10e+01, 7.90e+04],\n",
              "       [4.70e+01, 5.00e+04],\n",
              "       [4.10e+01, 3.00e+04],\n",
              "       [3.70e+01, 9.30e+04],\n",
              "       [6.00e+01, 4.60e+04],\n",
              "       [2.50e+01, 2.20e+04],\n",
              "       [2.80e+01, 3.70e+04],\n",
              "       [3.80e+01, 5.50e+04],\n",
              "       [3.60e+01, 5.40e+04],\n",
              "       [2.00e+01, 3.60e+04],\n",
              "       [5.60e+01, 1.04e+05],\n",
              "       [4.00e+01, 5.70e+04],\n",
              "       [4.20e+01, 1.08e+05],\n",
              "       [2.00e+01, 2.30e+04],\n",
              "       [4.00e+01, 6.50e+04],\n",
              "       [4.70e+01, 2.00e+04],\n",
              "       [1.80e+01, 8.60e+04],\n",
              "       [3.50e+01, 7.90e+04],\n",
              "       [5.70e+01, 3.30e+04],\n",
              "       [3.40e+01, 7.20e+04],\n",
              "       [4.90e+01, 3.90e+04],\n",
              "       [2.70e+01, 3.10e+04],\n",
              "       [1.90e+01, 7.00e+04],\n",
              "       [3.90e+01, 7.90e+04],\n",
              "       [2.60e+01, 8.10e+04],\n",
              "       [2.50e+01, 8.00e+04],\n",
              "       [2.80e+01, 8.50e+04],\n",
              "       [5.50e+01, 3.90e+04],\n",
              "       [5.00e+01, 8.80e+04],\n",
              "       [4.90e+01, 8.80e+04],\n",
              "       [5.20e+01, 1.50e+05],\n",
              "       [3.50e+01, 6.50e+04],\n",
              "       [4.20e+01, 5.40e+04],\n",
              "       [3.40e+01, 4.30e+04],\n",
              "       [3.70e+01, 5.20e+04],\n",
              "       [4.80e+01, 3.00e+04],\n",
              "       [2.90e+01, 4.30e+04],\n",
              "       [3.60e+01, 5.20e+04],\n",
              "       [2.70e+01, 5.40e+04],\n",
              "       [2.60e+01, 1.18e+05]])"
            ]
          },
          "metadata": {},
          "execution_count": 6
        }
      ]
    },
    {
      "cell_type": "code",
      "source": [
        "# Feature Scaling\n",
        "from sklearn.preprocessing import StandardScaler\n",
        "sc = StandardScaler()\n",
        "X_train = sc.fit_transform(X_train)\n",
        "X_test = sc.transform(X_test)"
      ],
      "metadata": {
        "id": "hVY41ayrMrcl"
      },
      "execution_count": 7,
      "outputs": []
    },
    {
      "cell_type": "code",
      "source": [
        "# Fitting the classifier classifier to the Training set\n",
        "from sklearn.svm import SVC\n",
        "classifier = SVC(kernel = 'linear', random_state= 0)\n",
        "classifier.fit(X_train, y_train)"
      ],
      "metadata": {
        "colab": {
          "base_uri": "https://localhost:8080/"
        },
        "id": "vszQR3qv3nO4",
        "outputId": "7ffae1d4-e41f-451a-efb9-6b0fd3cc45f3"
      },
      "execution_count": 8,
      "outputs": [
        {
          "output_type": "execute_result",
          "data": {
            "text/plain": [
              "SVC(kernel='linear', random_state=0)"
            ]
          },
          "metadata": {},
          "execution_count": 8
        }
      ]
    },
    {
      "cell_type": "code",
      "source": [
        "# Predicting the Test set results\n",
        "y_pred = classifier.predict(X_test)\n",
        "y_pred"
      ],
      "metadata": {
        "colab": {
          "base_uri": "https://localhost:8080/"
        },
        "id": "_ZUDjEpz3pLO",
        "outputId": "3ce51174-fb7e-4e62-b87a-2338fec27c15"
      },
      "execution_count": 9,
      "outputs": [
        {
          "output_type": "execute_result",
          "data": {
            "text/plain": [
              "array([0, 0, 0, 0, 0, 0, 0, 1, 0, 0, 0, 0, 0, 0, 0, 0, 0, 0, 1, 0, 0, 1,\n",
              "       0, 1, 0, 1, 0, 0, 0, 0, 0, 0, 1, 0, 0, 0, 0, 0, 0, 1, 0, 0, 0, 0,\n",
              "       1, 0, 0, 1, 0, 1, 1, 0, 0, 0, 1, 0, 0, 0, 0, 0, 0, 1, 0, 0, 0, 1,\n",
              "       0, 0, 0, 0, 1, 0, 0, 0, 0, 0, 1, 0, 1, 1, 1, 1, 0, 0, 1, 1, 0, 1,\n",
              "       0, 0, 0, 1, 0, 0, 0, 0, 0, 0, 1, 1])"
            ]
          },
          "metadata": {},
          "execution_count": 9
        }
      ]
    },
    {
      "cell_type": "code",
      "source": [
        "# Making the Confusion Matrix\n",
        "from sklearn.metrics import confusion_matrix\n",
        "cm = confusion_matrix(y_test, y_pred)\n",
        "cm"
      ],
      "metadata": {
        "colab": {
          "base_uri": "https://localhost:8080/"
        },
        "id": "dDbO_djC3uP4",
        "outputId": "4aa23f53-6fd0-47a8-e8a0-601e47bca1c5"
      },
      "execution_count": 10,
      "outputs": [
        {
          "output_type": "execute_result",
          "data": {
            "text/plain": [
              "array([[66,  2],\n",
              "       [ 8, 24]])"
            ]
          },
          "metadata": {},
          "execution_count": 10
        }
      ]
    },
    {
      "cell_type": "code",
      "source": [
        "(66+24)/(66+2+8+24)"
      ],
      "metadata": {
        "colab": {
          "base_uri": "https://localhost:8080/"
        },
        "id": "KG8Yzi-JpHiQ",
        "outputId": "3b5c5e7b-6627-470f-9778-7d78066af553"
      },
      "execution_count": 13,
      "outputs": [
        {
          "output_type": "execute_result",
          "data": {
            "text/plain": [
              "0.9"
            ]
          },
          "metadata": {},
          "execution_count": 13
        }
      ]
    },
    {
      "cell_type": "code",
      "source": [
        "# Visualising the Training set results\n",
        "from matplotlib.colors import ListedColormap\n",
        "X_set, y_set = X_train, y_train\n",
        "X1, X2 = np.meshgrid(np.arange(start = X_set[:, 0].min() - 1, stop = X_set[:, 0].max() + 1, step = 0.01),\n",
        "                     np.arange(start = X_set[:, 1].min() - 1, stop = X_set[:, 1].max() + 1, step = 0.01))\n",
        "plt.contourf(X1, X2, classifier.predict(np.array([X1.ravel(), X2.ravel()]).T).reshape(X1.shape),\n",
        "             alpha = 0.5, cmap = ListedColormap(('red', 'green')))\n",
        "plt.xlim(X1.min(), X1.max())\n",
        "plt.ylim(X2.min(), X2.max())\n",
        "for i, j in enumerate(np.unique(y_set)):\n",
        "    plt.scatter(X_set[y_set == j, 0], X_set[y_set == j, 1], alpha=0.5,\n",
        "                c = ListedColormap(('red', 'green'))(i), label = j)\n",
        "plt.title('SVM (Training set)')\n",
        "plt.xlabel('Age')\n",
        "plt.ylabel('Estimated Salary')\n",
        "plt.legend()\n",
        "plt.show()\n"
      ],
      "metadata": {
        "colab": {
          "base_uri": "https://localhost:8080/",
          "height": 350
        },
        "id": "tt-WMvsI31hJ",
        "outputId": "bf302e20-cac8-464b-ce75-663702937f77"
      },
      "execution_count": 11,
      "outputs": [
        {
          "output_type": "stream",
          "name": "stderr",
          "text": [
            "WARNING:matplotlib.axes._axes:*c* argument looks like a single numeric RGB or RGBA sequence, which should be avoided as value-mapping will have precedence in case its length matches with *x* & *y*.  Please use the *color* keyword-argument or provide a 2-D array with a single row if you intend to specify the same RGB or RGBA value for all points.\n",
            "WARNING:matplotlib.axes._axes:*c* argument looks like a single numeric RGB or RGBA sequence, which should be avoided as value-mapping will have precedence in case its length matches with *x* & *y*.  Please use the *color* keyword-argument or provide a 2-D array with a single row if you intend to specify the same RGB or RGBA value for all points.\n"
          ]
        },
        {
          "output_type": "display_data",
          "data": {
            "text/plain": [
              "<Figure size 432x288 with 1 Axes>"
            ],
            "image/png": "[encoded data removed]"
          },
          "metadata": {
            "needs_background": "light"
          }
        }
      ]
    },
    {
      "cell_type": "code",
      "source": [
        "# Visualising the Test set results\n",
        "from matplotlib.colors import ListedColormap\n",
        "X_set, y_set = X_test, y_test\n",
        "X1, X2 = np.meshgrid(np.arange(start = X_set[:, 0].min() - 1, stop = X_set[:, 0].max() + 1, step = 0.01),\n",
        "                     np.arange(start = X_set[:, 1].min() - 1, stop = X_set[:, 1].max() + 1, step = 0.01))\n",
        "plt.contourf(X1, X2, classifier.predict(np.array([X1.ravel(), X2.ravel()]).T).reshape(X1.shape),\n",
        "             alpha = 0.5, cmap = ListedColormap(('red', 'green')))\n",
        "plt.xlim(X1.min(), X1.max())\n",
        "plt.ylim(X2.min(), X2.max())\n",
        "for i, j in enumerate(np.unique(y_set)):\n",
        "    plt.scatter(X_set[y_set == j, 0], X_set[y_set == j, 1], alpha=0.9,\n",
        "                c = ListedColormap(('red', 'green'))(i), label = j)\n",
        "plt.title('SVM (Test set)')\n",
        "plt.xlabel('Age')\n",
        "plt.ylabel('Estimated Salary')\n",
        "plt.legend()\n",
        "plt.show()"
      ],
      "metadata": {
        "colab": {
          "base_uri": "https://localhost:8080/",
          "height": 350
        },
        "id": "zLUzVoH-37gF",
        "outputId": "4f66a045-bcd0-4f91-bb39-49dfe13c8648"
      },
      "execution_count": 12,
      "outputs": [
        {
          "output_type": "stream",
          "name": "stderr",
          "text": [
            "WARNING:matplotlib.axes._axes:*c* argument looks like a single numeric RGB or RGBA sequence, which should be avoided as value-mapping will have precedence in case its length matches with *x* & *y*.  Please use the *color* keyword-argument or provide a 2-D array with a single row if you intend to specify the same RGB or RGBA value for all points.\n",
            "WARNING:matplotlib.axes._axes:*c* argument looks like a single numeric RGB or RGBA sequence, which should be avoided as value-mapping will have precedence in case its length matches with *x* & *y*.  Please use the *color* keyword-argument or provide a 2-D array with a single row if you intend to specify the same RGB or RGBA value for all points.\n"
          ]
        },
        {
          "output_type": "display_data",
          "data": {
            "text/plain": [
              "<Figure size 432x288 with 1 Axes>"
            ],
            "image/png": "[encoded data removed]"
          },
          "metadata": {
            "needs_background": "light"
          }
        }
      ]
    }
  ]
}