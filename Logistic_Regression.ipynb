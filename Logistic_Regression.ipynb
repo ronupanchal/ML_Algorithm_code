{
  "nbformat": 4,
  "nbformat_minor": 0,
  "metadata": {
    "colab": {
      "provenance": [],
      "authorship_tag": "ABX9TyM8zo2vvnG3mzr3a4TzlWn2",
      "include_colab_link": true
    },
    "kernelspec": {
      "name": "python3",
      "display_name": "Python 3"
    },
    "language_info": {
      "name": "python"
    }
  },
  "cells": [
    {
      "cell_type": "markdown",
      "metadata": {
        "id": "view-in-github",
        "colab_type": "text"
      },
      "source": [
        "<a href=\"https://colab.research.google.com/github/ronupanchal/ML_Algorithm_code/blob/main/Logistic_Regression.ipynb\" target=\"_parent\"><img src=\"https://colab.research.google.com/assets/colab-badge.svg\" alt=\"Open In Colab\"/></a>"
      ]
    },
    {
      "cell_type": "code",
      "execution_count": 1,
      "metadata": {
        "id": "ar7KXLQ4LD_B"
      },
      "outputs": [],
      "source": [
        "# Logistic Regression\n",
        "\n",
        "# Importing the libraries\n",
        "import numpy as np\n",
        "import matplotlib.pyplot as plt\n",
        "import pandas as pd"
      ]
    },
    {
      "cell_type": "code",
      "source": [
        "# Importing the dataset\n",
        "dataset = pd.read_csv('/content/sample_data/Social_Network_Ads.csv')\n",
        "X = dataset.iloc[:, [2, 3]].values\n",
        "y = dataset.iloc[:, 4].values"
      ],
      "metadata": {
        "id": "LqXxvJJwLhKv"
      },
      "execution_count": 2,
      "outputs": []
    },
    {
      "cell_type": "code",
      "source": [
        "dataset\n"
      ],
      "metadata": {
        "colab": {
          "base_uri": "https://localhost:8080/",
          "height": 423
        },
        "id": "D9kZV0vepWC_",
        "outputId": "e81ae452-ca5f-4f1b-ebd3-c8265e7cd2ee"
      },
      "execution_count": 3,
      "outputs": [
        {
          "output_type": "execute_result",
          "data": {
            "text/plain": [
              "      User ID  Gender   Age  EstimatedSalary  Purchased\n",
              "0    15624510    Male  19.0          19000.0          0\n",
              "1    15810944    Male  35.0          20000.0          0\n",
              "2    15668575  Female  26.0          43000.0          0\n",
              "3    15603246  Female  27.0          57000.0          0\n",
              "4    15804002    Male  19.0          76000.0          0\n",
              "..        ...     ...   ...              ...        ...\n",
              "395  15691863  Female  46.0          41000.0          1\n",
              "396  15706071    Male  51.0          23000.0          1\n",
              "397  15654296  Female  50.0          20000.0          1\n",
              "398  15755018    Male  36.0          33000.0          0\n",
              "399  15594041  Female  49.0          36000.0          1\n",
              "\n",
              "[400 rows x 5 columns]"
            ],
            "text/html": [
              "\n",
              "  <div id=\"df-bc453b1a-14ad-473a-b26f-c1096e05bc2e\" class=\"colab-df-container\">\n",
              "    <div>\n",
              "<style scoped>\n",
              "    .dataframe tbody tr th:only-of-type {\n",
              "        vertical-align: middle;\n",
              "    }\n",
              "\n",
              "    .dataframe tbody tr th {\n",
              "        vertical-align: top;\n",
              "    }\n",
              "\n",
              "    .dataframe thead th {\n",
              "        text-align: right;\n",
              "    }\n",
              "</style>\n",
              "<table border=\"1\" class=\"dataframe\">\n",
              "  <thead>\n",
              "    <tr style=\"text-align: right;\">\n",
              "      <th></th>\n",
              "      <th>User ID</th>\n",
              "      <th>Gender</th>\n",
              "      <th>Age</th>\n",
              "      <th>EstimatedSalary</th>\n",
              "      <th>Purchased</th>\n",
              "    </tr>\n",
              "  </thead>\n",
              "  <tbody>\n",
              "    <tr>\n",
              "      <th>0</th>\n",
              "      <td>15624510</td>\n",
              "      <td>Male</td>\n",
              "      <td>19.0</td>\n",
              "      <td>19000.0</td>\n",
              "      <td>0</td>\n",
              "    </tr>\n",
              "    <tr>\n",
              "      <th>1</th>\n",
              "      <td>15810944</td>\n",
              "      <td>Male</td>\n",
              "      <td>35.0</td>\n",
              "      <td>20000.0</td>\n",
              "      <td>0</td>\n",
              "    </tr>\n",
              "    <tr>\n",
              "      <th>2</th>\n",
              "      <td>15668575</td>\n",
              "      <td>Female</td>\n",
              "      <td>26.0</td>\n",
              "      <td>43000.0</td>\n",
              "      <td>0</td>\n",
              "    </tr>\n",
              "    <tr>\n",
              "      <th>3</th>\n",
              "      <td>15603246</td>\n",
              "      <td>Female</td>\n",
              "      <td>27.0</td>\n",
              "      <td>57000.0</td>\n",
              "      <td>0</td>\n",
              "    </tr>\n",
              "    <tr>\n",
              "      <th>4</th>\n",
              "      <td>15804002</td>\n",
              "      <td>Male</td>\n",
              "      <td>19.0</td>\n",
              "      <td>76000.0</td>\n",
              "      <td>0</td>\n",
              "    </tr>\n",
              "    <tr>\n",
              "      <th>...</th>\n",
              "      <td>...</td>\n",
              "      <td>...</td>\n",
              "      <td>...</td>\n",
              "      <td>...</td>\n",
              "      <td>...</td>\n",
              "    </tr>\n",
              "    <tr>\n",
              "      <th>395</th>\n",
              "      <td>15691863</td>\n",
              "      <td>Female</td>\n",
              "      <td>46.0</td>\n",
              "      <td>41000.0</td>\n",
              "      <td>1</td>\n",
              "    </tr>\n",
              "    <tr>\n",
              "      <th>396</th>\n",
              "      <td>15706071</td>\n",
              "      <td>Male</td>\n",
              "      <td>51.0</td>\n",
              "      <td>23000.0</td>\n",
              "      <td>1</td>\n",
              "    </tr>\n",
              "    <tr>\n",
              "      <th>397</th>\n",
              "      <td>15654296</td>\n",
              "      <td>Female</td>\n",
              "      <td>50.0</td>\n",
              "      <td>20000.0</td>\n",
              "      <td>1</td>\n",
              "    </tr>\n",
              "    <tr>\n",
              "      <th>398</th>\n",
              "      <td>15755018</td>\n",
              "      <td>Male</td>\n",
              "      <td>36.0</td>\n",
              "      <td>33000.0</td>\n",
              "      <td>0</td>\n",
              "    </tr>\n",
              "    <tr>\n",
              "      <th>399</th>\n",
              "      <td>15594041</td>\n",
              "      <td>Female</td>\n",
              "      <td>49.0</td>\n",
              "      <td>36000.0</td>\n",
              "      <td>1</td>\n",
              "    </tr>\n",
              "  </tbody>\n",
              "</table>\n",
              "<p>400 rows × 5 columns</p>\n",
              "</div>\n",
              "    <div class=\"colab-df-buttons\">\n",
              "\n",
              "  <div class=\"colab-df-container\">\n",
              "    <button class=\"colab-df-convert\" onclick=\"convertToInteractive('df-bc453b1a-14ad-473a-b26f-c1096e05bc2e')\"\n",
              "            title=\"Convert this dataframe to an interactive table.\"\n",
              "            style=\"display:none;\">\n",
              "\n",
              "  <svg xmlns=\"http://www.w3.org/2000/svg\" height=\"24px\" viewBox=\"0 -960 960 960\">\n",
              "    <path d=\"M120-120v-720h720v720H120Zm60-500h600v-160H180v160Zm220 220h160v-160H400v160Zm0 220h160v-160H400v160ZM180-400h160v-160H180v160Zm440 0h160v-160H620v160ZM180-180h160v-160H180v160Zm440 0h160v-160H620v160Z\"/>\n",
              "  </svg>\n",
              "    </button>\n",
              "\n",
              "  <style>\n",
              "    .colab-df-container {\n",
              "      display:flex;\n",
              "      gap: 12px;\n",
              "    }\n",
              "\n",
              "    .colab-df-convert {\n",
              "      background-color: #E8F0FE;\n",
              "      border: none;\n",
              "      border-radius: 50%;\n",
              "      cursor: pointer;\n",
              "      display: none;\n",
              "      fill: #1967D2;\n",
              "      height: 32px;\n",
              "      padding: 0 0 0 0;\n",
              "      width: 32px;\n",
              "    }\n",
              "\n",
              "    .colab-df-convert:hover {\n",
              "      background-color: #E2EBFA;\n",
              "      box-shadow: 0px 1px 2px rgba(60, 64, 67, 0.3), 0px 1px 3px 1px rgba(60, 64, 67, 0.15);\n",
              "      fill: #174EA6;\n",
              "    }\n",
              "\n",
              "    .colab-df-buttons div {\n",
              "      margin-bottom: 4px;\n",
              "    }\n",
              "\n",
              "    [theme=dark] .colab-df-convert {\n",
              "      background-color: #3B4455;\n",
              "      fill: #D2E3FC;\n",
              "    }\n",
              "\n",
              "    [theme=dark] .colab-df-convert:hover {\n",
              "      background-color: #434B5C;\n",
              "      box-shadow: 0px 1px 3px 1px rgba(0, 0, 0, 0.15);\n",
              "      filter: drop-shadow(0px 1px 2px rgba(0, 0, 0, 0.3));\n",
              "      fill: #FFFFFF;\n",
              "    }\n",
              "  </style>\n",
              "\n",
              "    <script>\n",
              "      const buttonEl =\n",
              "        document.querySelector('#df-bc453b1a-14ad-473a-b26f-c1096e05bc2e button.colab-df-convert');\n",
              "      buttonEl.style.display =\n",
              "        google.colab.kernel.accessAllowed ? 'block' : 'none';\n",
              "\n",
              "      async function convertToInteractive(key) {\n",
              "        const element = document.querySelector('#df-bc453b1a-14ad-473a-b26f-c1096e05bc2e');\n",
              "        const dataTable =\n",
              "          await google.colab.kernel.invokeFunction('convertToInteractive',\n",
              "                                                    [key], {});\n",
              "        if (!dataTable) return;\n",
              "\n",
              "        const docLinkHtml = 'Like what you see? Visit the ' +\n",
              "          '<a target=\"_blank\" href=https://colab.research.google.com/notebooks/data_table.ipynb>data table notebook</a>'\n",
              "          + ' to learn more about interactive tables.';\n",
              "        element.innerHTML = '';\n",
              "        dataTable['output_type'] = 'display_data';\n",
              "        await google.colab.output.renderOutput(dataTable, element);\n",
              "        const docLink = document.createElement('div');\n",
              "        docLink.innerHTML = docLinkHtml;\n",
              "        element.appendChild(docLink);\n",
              "      }\n",
              "    </script>\n",
              "  </div>\n",
              "\n",
              "\n",
              "<div id=\"df-7dd7385e-426e-47f2-8a61-e987e2c8a19c\">\n",
              "  <button class=\"colab-df-quickchart\" onclick=\"quickchart('df-7dd7385e-426e-47f2-8a61-e987e2c8a19c')\"\n",
              "            title=\"Suggest charts\"\n",
              "            style=\"display:none;\">\n",
              "\n",
              "<svg xmlns=\"http://www.w3.org/2000/svg\" height=\"24px\"viewBox=\"0 0 24 24\"\n",
              "     width=\"24px\">\n",
              "    <g>\n",
              "        <path d=\"M19 3H5c-1.1 0-2 .9-2 2v14c0 1.1.9 2 2 2h14c1.1 0 2-.9 2-2V5c0-1.1-.9-2-2-2zM9 17H7v-7h2v7zm4 0h-2V7h2v10zm4 0h-2v-4h2v4z\"/>\n",
              "    </g>\n",
              "</svg>\n",
              "  </button>\n",
              "\n",
              "<style>\n",
              "  .colab-df-quickchart {\n",
              "      --bg-color: #E8F0FE;\n",
              "      --fill-color: #1967D2;\n",
              "      --hover-bg-color: #E2EBFA;\n",
              "      --hover-fill-color: #174EA6;\n",
              "      --disabled-fill-color: #AAA;\n",
              "      --disabled-bg-color: #DDD;\n",
              "  }\n",
              "\n",
              "  [theme=dark] .colab-df-quickchart {\n",
              "      --bg-color: #3B4455;\n",
              "      --fill-color: #D2E3FC;\n",
              "      --hover-bg-color: #434B5C;\n",
              "      --hover-fill-color: #FFFFFF;\n",
              "      --disabled-bg-color: #3B4455;\n",
              "      --disabled-fill-color: #666;\n",
              "  }\n",
              "\n",
              "  .colab-df-quickchart {\n",
              "    background-color: var(--bg-color);\n",
              "    border: none;\n",
              "    border-radius: 50%;\n",
              "    cursor: pointer;\n",
              "    display: none;\n",
              "    fill: var(--fill-color);\n",
              "    height: 32px;\n",
              "    padding: 0;\n",
              "    width: 32px;\n",
              "  }\n",
              "\n",
              "  .colab-df-quickchart:hover {\n",
              "    background-color: var(--hover-bg-color);\n",
              "    box-shadow: 0 1px 2px rgba(60, 64, 67, 0.3), 0 1px 3px 1px rgba(60, 64, 67, 0.15);\n",
              "    fill: var(--button-hover-fill-color);\n",
              "  }\n",
              "\n",
              "  .colab-df-quickchart-complete:disabled,\n",
              "  .colab-df-quickchart-complete:disabled:hover {\n",
              "    background-color: var(--disabled-bg-color);\n",
              "    fill: var(--disabled-fill-color);\n",
              "    box-shadow: none;\n",
              "  }\n",
              "\n",
              "  .colab-df-spinner {\n",
              "    border: 2px solid var(--fill-color);\n",
              "    border-color: transparent;\n",
              "    border-bottom-color: var(--fill-color);\n",
              "    animation:\n",
              "      spin 1s steps(1) infinite;\n",
              "  }\n",
              "\n",
              "  @keyframes spin {\n",
              "    0% {\n",
              "      border-color: transparent;\n",
              "      border-bottom-color: var(--fill-color);\n",
              "      border-left-color: var(--fill-color);\n",
              "    }\n",
              "    20% {\n",
              "      border-color: transparent;\n",
              "      border-left-color: var(--fill-color);\n",
              "      border-top-color: var(--fill-color);\n",
              "    }\n",
              "    30% {\n",
              "      border-color: transparent;\n",
              "      border-left-color: var(--fill-color);\n",
              "      border-top-color: var(--fill-color);\n",
              "      border-right-color: var(--fill-color);\n",
              "    }\n",
              "    40% {\n",
              "      border-color: transparent;\n",
              "      border-right-color: var(--fill-color);\n",
              "      border-top-color: var(--fill-color);\n",
              "    }\n",
              "    60% {\n",
              "      border-color: transparent;\n",
              "      border-right-color: var(--fill-color);\n",
              "    }\n",
              "    80% {\n",
              "      border-color: transparent;\n",
              "      border-right-color: var(--fill-color);\n",
              "      border-bottom-color: var(--fill-color);\n",
              "    }\n",
              "    90% {\n",
              "      border-color: transparent;\n",
              "      border-bottom-color: var(--fill-color);\n",
              "    }\n",
              "  }\n",
              "</style>\n",
              "\n",
              "  <script>\n",
              "    async function quickchart(key) {\n",
              "      const quickchartButtonEl =\n",
              "        document.querySelector('#' + key + ' button');\n",
              "      quickchartButtonEl.disabled = true;  // To prevent multiple clicks.\n",
              "      quickchartButtonEl.classList.add('colab-df-spinner');\n",
              "      try {\n",
              "        const charts = await google.colab.kernel.invokeFunction(\n",
              "            'suggestCharts', [key], {});\n",
              "      } catch (error) {\n",
              "        console.error('Error during call to suggestCharts:', error);\n",
              "      }\n",
              "      quickchartButtonEl.classList.remove('colab-df-spinner');\n",
              "      quickchartButtonEl.classList.add('colab-df-quickchart-complete');\n",
              "    }\n",
              "    (() => {\n",
              "      let quickchartButtonEl =\n",
              "        document.querySelector('#df-7dd7385e-426e-47f2-8a61-e987e2c8a19c button');\n",
              "      quickchartButtonEl.style.display =\n",
              "        google.colab.kernel.accessAllowed ? 'block' : 'none';\n",
              "    })();\n",
              "  </script>\n",
              "</div>\n",
              "\n",
              "  <div id=\"id_9ea9cd42-5b49-4d4b-9ba4-631531f27e13\">\n",
              "    <style>\n",
              "      .colab-df-generate {\n",
              "        background-color: #E8F0FE;\n",
              "        border: none;\n",
              "        border-radius: 50%;\n",
              "        cursor: pointer;\n",
              "        display: none;\n",
              "        fill: #1967D2;\n",
              "        height: 32px;\n",
              "        padding: 0 0 0 0;\n",
              "        width: 32px;\n",
              "      }\n",
              "\n",
              "      .colab-df-generate:hover {\n",
              "        background-color: #E2EBFA;\n",
              "        box-shadow: 0px 1px 2px rgba(60, 64, 67, 0.3), 0px 1px 3px 1px rgba(60, 64, 67, 0.15);\n",
              "        fill: #174EA6;\n",
              "      }\n",
              "\n",
              "      [theme=dark] .colab-df-generate {\n",
              "        background-color: #3B4455;\n",
              "        fill: #D2E3FC;\n",
              "      }\n",
              "\n",
              "      [theme=dark] .colab-df-generate:hover {\n",
              "        background-color: #434B5C;\n",
              "        box-shadow: 0px 1px 3px 1px rgba(0, 0, 0, 0.15);\n",
              "        filter: drop-shadow(0px 1px 2px rgba(0, 0, 0, 0.3));\n",
              "        fill: #FFFFFF;\n",
              "      }\n",
              "    </style>\n",
              "    <button class=\"colab-df-generate\" onclick=\"generateWithVariable('dataset')\"\n",
              "            title=\"Generate code using this dataframe.\"\n",
              "            style=\"display:none;\">\n",
              "\n",
              "  <svg xmlns=\"http://www.w3.org/2000/svg\" height=\"24px\"viewBox=\"0 0 24 24\"\n",
              "       width=\"24px\">\n",
              "    <path d=\"M7,19H8.4L18.45,9,17,7.55,7,17.6ZM5,21V16.75L18.45,3.32a2,2,0,0,1,2.83,0l1.4,1.43a1.91,1.91,0,0,1,.58,1.4,1.91,1.91,0,0,1-.58,1.4L9.25,21ZM18.45,9,17,7.55Zm-12,3A5.31,5.31,0,0,0,4.9,8.1,5.31,5.31,0,0,0,1,6.5,5.31,5.31,0,0,0,4.9,4.9,5.31,5.31,0,0,0,6.5,1,5.31,5.31,0,0,0,8.1,4.9,5.31,5.31,0,0,0,12,6.5,5.46,5.46,0,0,0,6.5,12Z\"/>\n",
              "  </svg>\n",
              "    </button>\n",
              "    <script>\n",
              "      (() => {\n",
              "      const buttonEl =\n",
              "        document.querySelector('#id_9ea9cd42-5b49-4d4b-9ba4-631531f27e13 button.colab-df-generate');\n",
              "      buttonEl.style.display =\n",
              "        google.colab.kernel.accessAllowed ? 'block' : 'none';\n",
              "\n",
              "      buttonEl.onclick = () => {\n",
              "        google.colab.notebook.generateWithVariable('dataset');\n",
              "      }\n",
              "      })();\n",
              "    </script>\n",
              "  </div>\n",
              "\n",
              "    </div>\n",
              "  </div>\n"
            ],
            "application/vnd.google.colaboratory.intrinsic+json": {
              "type": "dataframe",
              "variable_name": "dataset",
              "summary": "{\n  \"name\": \"dataset\",\n  \"rows\": 400,\n  \"fields\": [\n    {\n      \"column\": \"User ID\",\n      \"properties\": {\n        \"dtype\": \"number\",\n        \"std\": 71658,\n        \"min\": 15566689,\n        \"max\": 15815236,\n        \"num_unique_values\": 400,\n        \"samples\": [\n          15697424,\n          15609669,\n          15776733\n        ],\n        \"semantic_type\": \"\",\n        \"description\": \"\"\n      }\n    },\n    {\n      \"column\": \"Gender\",\n      \"properties\": {\n        \"dtype\": \"category\",\n        \"num_unique_values\": 2,\n        \"samples\": [\n          \"Female\",\n          \"Male\"\n        ],\n        \"semantic_type\": \"\",\n        \"description\": \"\"\n      }\n    },\n    {\n      \"column\": \"Age\",\n      \"properties\": {\n        \"dtype\": \"number\",\n        \"std\": 10.482876597307914,\n        \"min\": 18.0,\n        \"max\": 60.0,\n        \"num_unique_values\": 43,\n        \"samples\": [\n          50.0,\n          39.0\n        ],\n        \"semantic_type\": \"\",\n        \"description\": \"\"\n      }\n    },\n    {\n      \"column\": \"EstimatedSalary\",\n      \"properties\": {\n        \"dtype\": \"number\",\n        \"std\": 34096.960282424785,\n        \"min\": 15000.0,\n        \"max\": 150000.0,\n        \"num_unique_values\": 117,\n        \"samples\": [\n          117000.0,\n          76000.0\n        ],\n        \"semantic_type\": \"\",\n        \"description\": \"\"\n      }\n    },\n    {\n      \"column\": \"Purchased\",\n      \"properties\": {\n        \"dtype\": \"number\",\n        \"std\": 0,\n        \"min\": 0,\n        \"max\": 1,\n        \"num_unique_values\": 2,\n        \"samples\": [\n          1,\n          0\n        ],\n        \"semantic_type\": \"\",\n        \"description\": \"\"\n      }\n    }\n  ]\n}"
            }
          },
          "metadata": {},
          "execution_count": 3
        }
      ]
    },
    {
      "cell_type": "code",
      "source": [
        "# prompt: Using dataframe dataset: boxplot\n",
        "\n",
        "import altair as alt\n",
        "chart = alt.Chart(dataset).mark_boxplot().encode(x='Gender', y='Age')\n",
        "chart\n"
      ],
      "metadata": {
        "id": "-IQJ2iLXRej9",
        "colab": {
          "base_uri": "https://localhost:8080/",
          "height": 393
        },
        "outputId": "23cf56b5-4757-435b-e28d-c5a3846d48c1"
      },
      "execution_count": 4,
      "outputs": [
        {
          "output_type": "execute_result",
          "data": {
            "text/html": [
              "\n",
              "<div id=\"altair-viz-69aa5d5ce6014a91bde60f1d02a10dd7\"></div>\n",
              "<script type=\"text/javascript\">\n",
              "  var VEGA_DEBUG = (typeof VEGA_DEBUG == \"undefined\") ? {} : VEGA_DEBUG;\n",
              "  (function(spec, embedOpt){\n",
              "    let outputDiv = document.currentScript.previousElementSibling;\n",
              "    if (outputDiv.id !== \"altair-viz-69aa5d5ce6014a91bde60f1d02a10dd7\") {\n",
              "      outputDiv = document.getElementById(\"altair-viz-69aa5d5ce6014a91bde60f1d02a10dd7\");\n",
              "    }\n",
              "    const paths = {\n",
              "      \"vega\": \"https://cdn.jsdelivr.net/npm//vega@5?noext\",\n",
              "      \"vega-lib\": \"https://cdn.jsdelivr.net/npm//vega-lib?noext\",\n",
              "      \"vega-lite\": \"https://cdn.jsdelivr.net/npm//vega-lite@4.17.0?noext\",\n",
              "      \"vega-embed\": \"https://cdn.jsdelivr.net/npm//vega-embed@6?noext\",\n",
              "    };\n",
              "\n",
              "    function maybeLoadScript(lib, version) {\n",
              "      var key = `${lib.replace(\"-\", \"\")}_version`;\n",
              "      return (VEGA_DEBUG[key] == version) ?\n",
              "        Promise.resolve(paths[lib]) :\n",
              "        new Promise(function(resolve, reject) {\n",
              "          var s = document.createElement('script');\n",
              "          document.getElementsByTagName(\"head\")[0].appendChild(s);\n",
              "          s.async = true;\n",
              "          s.onload = () => {\n",
              "            VEGA_DEBUG[key] = version;\n",
              "            return resolve(paths[lib]);\n",
              "          };\n",
              "          s.onerror = () => reject(`Error loading script: ${paths[lib]}`);\n",
              "          s.src = paths[lib];\n",
              "        });\n",
              "    }\n",
              "\n",
              "    function showError(err) {\n",
              "      outputDiv.innerHTML = `<div class=\"error\" style=\"color:red;\">${err}</div>`;\n",
              "      throw err;\n",
              "    }\n",
              "\n",
              "    function displayChart(vegaEmbed) {\n",
              "      vegaEmbed(outputDiv, spec, embedOpt)\n",
              "        .catch(err => showError(`Javascript Error: ${err.message}<br>This usually means there's a typo in your chart specification. See the javascript console for the full traceback.`));\n",
              "    }\n",
              "\n",
              "    if(typeof define === \"function\" && define.amd) {\n",
              "      requirejs.config({paths});\n",
              "      require([\"vega-embed\"], displayChart, err => showError(`Error loading script: ${err.message}`));\n",
              "    } else {\n",
              "      maybeLoadScript(\"vega\", \"5\")\n",
              "        .then(() => maybeLoadScript(\"vega-lite\", \"4.17.0\"))\n",
              "        .then(() => maybeLoadScript(\"vega-embed\", \"6\"))\n",
              "        .catch(showError)\n",
              "        .then(() => displayChart(vegaEmbed));\n",
              "    }\n",
              "  })({\"config\": {\"view\": {\"continuousWidth\": 400, \"continuousHeight\": 300}}, \"data\": {\"name\": \"data-f8e4b60a2b8616fa74f5bdb37cf65acd\"}, \"mark\": \"boxplot\", \"encoding\": {\"x\": {\"field\": \"Gender\", \"type\": \"nominal\"}, \"y\": {\"field\": \"Age\", \"type\": \"quantitative\"}}, \"$schema\": \"https://vega.github.io/schema/vega-lite/v4.17.0.json\", \"datasets\": {\"data-f8e4b60a2b8616fa74f5bdb37cf65acd\": [{\"User ID\": 15624510, \"Gender\": \"Male\", \"Age\": 19.0, \"EstimatedSalary\": 19000.0, \"Purchased\": 0}, {\"User ID\": 15810944, \"Gender\": \"Male\", \"Age\": 35.0, \"EstimatedSalary\": 20000.0, \"Purchased\": 0}, {\"User ID\": 15668575, \"Gender\": \"Female\", \"Age\": 26.0, \"EstimatedSalary\": 43000.0, \"Purchased\": 0}, {\"User ID\": 15603246, \"Gender\": \"Female\", \"Age\": 27.0, \"EstimatedSalary\": 57000.0, \"Purchased\": 0}, {\"User ID\": 15804002, \"Gender\": \"Male\", \"Age\": 19.0, \"EstimatedSalary\": 76000.0, \"Purchased\": 0}, {\"User ID\": 15728773, \"Gender\": \"Male\", \"Age\": 27.0, \"EstimatedSalary\": 58000.0, \"Purchased\": 0}, {\"User ID\": 15598044, \"Gender\": \"Female\", \"Age\": 27.0, \"EstimatedSalary\": 84000.0, \"Purchased\": 0}, {\"User ID\": 15694829, \"Gender\": \"Female\", \"Age\": 32.0, \"EstimatedSalary\": 150000.0, \"Purchased\": 1}, {\"User ID\": 15600575, \"Gender\": \"Male\", \"Age\": 25.0, \"EstimatedSalary\": 33000.0, \"Purchased\": 0}, {\"User ID\": 15727311, \"Gender\": \"Female\", \"Age\": 35.0, \"EstimatedSalary\": 65000.0, \"Purchased\": 0}, {\"User ID\": 15570769, \"Gender\": \"Female\", \"Age\": 26.0, \"EstimatedSalary\": 80000.0, \"Purchased\": 0}, {\"User ID\": 15606274, \"Gender\": \"Female\", \"Age\": 26.0, \"EstimatedSalary\": 52000.0, \"Purchased\": 0}, {\"User ID\": 15746139, \"Gender\": \"Male\", \"Age\": 20.0, \"EstimatedSalary\": 86000.0, \"Purchased\": 0}, {\"User ID\": 15704987, \"Gender\": \"Male\", \"Age\": 32.0, \"EstimatedSalary\": 18000.0, \"Purchased\": 0}, {\"User ID\": 15628972, \"Gender\": \"Male\", \"Age\": 18.0, \"EstimatedSalary\": 82000.0, \"Purchased\": 0}, {\"User ID\": 15697686, \"Gender\": \"Male\", \"Age\": 29.0, \"EstimatedSalary\": 80000.0, \"Purchased\": 0}, {\"User ID\": 15733883, \"Gender\": \"Male\", \"Age\": 47.0, \"EstimatedSalary\": 25000.0, \"Purchased\": 1}, {\"User ID\": 15617482, \"Gender\": \"Male\", \"Age\": 45.0, \"EstimatedSalary\": 26000.0, \"Purchased\": 1}, {\"User ID\": 15704583, \"Gender\": \"Male\", \"Age\": 46.0, \"EstimatedSalary\": 28000.0, \"Purchased\": 1}, {\"User ID\": 15621083, \"Gender\": \"Female\", \"Age\": 48.0, \"EstimatedSalary\": 29000.0, \"Purchased\": 1}, {\"User ID\": 15649487, \"Gender\": \"Male\", \"Age\": 45.0, \"EstimatedSalary\": 22000.0, \"Purchased\": 1}, {\"User ID\": 15736760, \"Gender\": \"Female\", \"Age\": 47.0, \"EstimatedSalary\": 49000.0, \"Purchased\": 1}, {\"User ID\": 15714658, \"Gender\": \"Male\", \"Age\": 48.0, \"EstimatedSalary\": 41000.0, \"Purchased\": 1}, {\"User ID\": 15599081, \"Gender\": \"Female\", \"Age\": 45.0, \"EstimatedSalary\": 22000.0, \"Purchased\": 1}, {\"User ID\": 15705113, \"Gender\": \"Male\", \"Age\": 46.0, \"EstimatedSalary\": 23000.0, \"Purchased\": 1}, {\"User ID\": 15631159, \"Gender\": \"Male\", \"Age\": 47.0, \"EstimatedSalary\": 20000.0, \"Purchased\": 1}, {\"User ID\": 15792818, \"Gender\": \"Male\", \"Age\": 49.0, \"EstimatedSalary\": 28000.0, \"Purchased\": 1}, {\"User ID\": 15633531, \"Gender\": \"Female\", \"Age\": 47.0, \"EstimatedSalary\": 30000.0, \"Purchased\": 1}, {\"User ID\": 15744529, \"Gender\": \"Male\", \"Age\": 29.0, \"EstimatedSalary\": 43000.0, \"Purchased\": 0}, {\"User ID\": 15669656, \"Gender\": \"Male\", \"Age\": 31.0, \"EstimatedSalary\": 18000.0, \"Purchased\": 0}, {\"User ID\": 15581198, \"Gender\": \"Male\", \"Age\": 31.0, \"EstimatedSalary\": 74000.0, \"Purchased\": 0}, {\"User ID\": 15729054, \"Gender\": \"Female\", \"Age\": 27.0, \"EstimatedSalary\": 137000.0, \"Purchased\": 1}, {\"User ID\": 15573452, \"Gender\": \"Female\", \"Age\": 21.0, \"EstimatedSalary\": 16000.0, \"Purchased\": 0}, {\"User ID\": 15776733, \"Gender\": \"Female\", \"Age\": 28.0, \"EstimatedSalary\": 44000.0, \"Purchased\": 0}, {\"User ID\": 15724858, \"Gender\": \"Male\", \"Age\": 27.0, \"EstimatedSalary\": 90000.0, \"Purchased\": 0}, {\"User ID\": 15713144, \"Gender\": \"Male\", \"Age\": 35.0, \"EstimatedSalary\": 27000.0, \"Purchased\": 0}, {\"User ID\": 15690188, \"Gender\": \"Female\", \"Age\": 33.0, \"EstimatedSalary\": 28000.0, \"Purchased\": 0}, {\"User ID\": 15689425, \"Gender\": \"Male\", \"Age\": 30.0, \"EstimatedSalary\": 49000.0, \"Purchased\": 0}, {\"User ID\": 15671766, \"Gender\": \"Female\", \"Age\": 26.0, \"EstimatedSalary\": 72000.0, \"Purchased\": 0}, {\"User ID\": 15782806, \"Gender\": \"Female\", \"Age\": 27.0, \"EstimatedSalary\": 31000.0, \"Purchased\": 0}, {\"User ID\": 15764419, \"Gender\": \"Female\", \"Age\": 27.0, \"EstimatedSalary\": 17000.0, \"Purchased\": 0}, {\"User ID\": 15591915, \"Gender\": \"Female\", \"Age\": 33.0, \"EstimatedSalary\": 51000.0, \"Purchased\": 0}, {\"User ID\": 15772798, \"Gender\": \"Male\", \"Age\": 35.0, \"EstimatedSalary\": 108000.0, \"Purchased\": 0}, {\"User ID\": 15792008, \"Gender\": \"Male\", \"Age\": 30.0, \"EstimatedSalary\": 15000.0, \"Purchased\": 0}, {\"User ID\": 15715541, \"Gender\": \"Female\", \"Age\": 28.0, \"EstimatedSalary\": 84000.0, \"Purchased\": 0}, {\"User ID\": 15639277, \"Gender\": \"Male\", \"Age\": 23.0, \"EstimatedSalary\": 20000.0, \"Purchased\": 0}, {\"User ID\": 15798850, \"Gender\": \"Male\", \"Age\": 25.0, \"EstimatedSalary\": 79000.0, \"Purchased\": 0}, {\"User ID\": 15776348, \"Gender\": \"Female\", \"Age\": 27.0, \"EstimatedSalary\": 54000.0, \"Purchased\": 0}, {\"User ID\": 15727696, \"Gender\": \"Male\", \"Age\": 30.0, \"EstimatedSalary\": 135000.0, \"Purchased\": 1}, {\"User ID\": 15793813, \"Gender\": \"Female\", \"Age\": 31.0, \"EstimatedSalary\": 89000.0, \"Purchased\": 0}, {\"User ID\": 15694395, \"Gender\": \"Female\", \"Age\": 24.0, \"EstimatedSalary\": 32000.0, \"Purchased\": 0}, {\"User ID\": 15764195, \"Gender\": \"Female\", \"Age\": 18.0, \"EstimatedSalary\": 44000.0, \"Purchased\": 0}, {\"User ID\": 15744919, \"Gender\": \"Female\", \"Age\": 29.0, \"EstimatedSalary\": 83000.0, \"Purchased\": 0}, {\"User ID\": 15671655, \"Gender\": \"Female\", \"Age\": 35.0, \"EstimatedSalary\": 23000.0, \"Purchased\": 0}, {\"User ID\": 15654901, \"Gender\": \"Female\", \"Age\": 27.0, \"EstimatedSalary\": 58000.0, \"Purchased\": 0}, {\"User ID\": 15649136, \"Gender\": \"Female\", \"Age\": 24.0, \"EstimatedSalary\": 55000.0, \"Purchased\": 0}, {\"User ID\": 15775562, \"Gender\": \"Female\", \"Age\": 23.0, \"EstimatedSalary\": 48000.0, \"Purchased\": 0}, {\"User ID\": 15807481, \"Gender\": \"Male\", \"Age\": 28.0, \"EstimatedSalary\": 79000.0, \"Purchased\": 0}, {\"User ID\": 15642885, \"Gender\": \"Male\", \"Age\": 22.0, \"EstimatedSalary\": 18000.0, \"Purchased\": 0}, {\"User ID\": 15789109, \"Gender\": \"Female\", \"Age\": 32.0, \"EstimatedSalary\": 117000.0, \"Purchased\": 0}, {\"User ID\": 15814004, \"Gender\": \"Male\", \"Age\": 27.0, \"EstimatedSalary\": 20000.0, \"Purchased\": 0}, {\"User ID\": 15673619, \"Gender\": \"Male\", \"Age\": 25.0, \"EstimatedSalary\": 87000.0, \"Purchased\": 0}, {\"User ID\": 15595135, \"Gender\": \"Female\", \"Age\": 23.0, \"EstimatedSalary\": 66000.0, \"Purchased\": 0}, {\"User ID\": 15583681, \"Gender\": \"Male\", \"Age\": 32.0, \"EstimatedSalary\": 120000.0, \"Purchased\": 1}, {\"User ID\": 15605000, \"Gender\": \"Female\", \"Age\": 59.0, \"EstimatedSalary\": 83000.0, \"Purchased\": 0}, {\"User ID\": 15718071, \"Gender\": \"Male\", \"Age\": 24.0, \"EstimatedSalary\": 58000.0, \"Purchased\": 0}, {\"User ID\": 15679760, \"Gender\": \"Male\", \"Age\": 24.0, \"EstimatedSalary\": 19000.0, \"Purchased\": 0}, {\"User ID\": 15654574, \"Gender\": \"Female\", \"Age\": 23.0, \"EstimatedSalary\": 82000.0, \"Purchased\": 0}, {\"User ID\": 15577178, \"Gender\": \"Female\", \"Age\": 22.0, \"EstimatedSalary\": 63000.0, \"Purchased\": 0}, {\"User ID\": 15595324, \"Gender\": \"Female\", \"Age\": 31.0, \"EstimatedSalary\": 68000.0, \"Purchased\": 0}, {\"User ID\": 15756932, \"Gender\": \"Male\", \"Age\": 25.0, \"EstimatedSalary\": 80000.0, \"Purchased\": 0}, {\"User ID\": 15726358, \"Gender\": \"Female\", \"Age\": 24.0, \"EstimatedSalary\": 27000.0, \"Purchased\": 0}, {\"User ID\": 15595228, \"Gender\": \"Female\", \"Age\": 20.0, \"EstimatedSalary\": 23000.0, \"Purchased\": 0}, {\"User ID\": 15782530, \"Gender\": \"Female\", \"Age\": 33.0, \"EstimatedSalary\": 113000.0, \"Purchased\": 0}, {\"User ID\": 15592877, \"Gender\": \"Male\", \"Age\": 32.0, \"EstimatedSalary\": 18000.0, \"Purchased\": 0}, {\"User ID\": 15651983, \"Gender\": \"Male\", \"Age\": 34.0, \"EstimatedSalary\": 112000.0, \"Purchased\": 1}, {\"User ID\": 15746737, \"Gender\": \"Male\", \"Age\": 18.0, \"EstimatedSalary\": 52000.0, \"Purchased\": 0}, {\"User ID\": 15774179, \"Gender\": \"Female\", \"Age\": 22.0, \"EstimatedSalary\": 27000.0, \"Purchased\": 0}, {\"User ID\": 15667265, \"Gender\": \"Female\", \"Age\": 28.0, \"EstimatedSalary\": 87000.0, \"Purchased\": 0}, {\"User ID\": 15655123, \"Gender\": \"Female\", \"Age\": 26.0, \"EstimatedSalary\": 17000.0, \"Purchased\": 0}, {\"User ID\": 15595917, \"Gender\": \"Male\", \"Age\": 30.0, \"EstimatedSalary\": 80000.0, \"Purchased\": 0}, {\"User ID\": 15668385, \"Gender\": \"Male\", \"Age\": 39.0, \"EstimatedSalary\": 42000.0, \"Purchased\": 0}, {\"User ID\": 15709476, \"Gender\": \"Male\", \"Age\": 20.0, \"EstimatedSalary\": 49000.0, \"Purchased\": 0}, {\"User ID\": 15711218, \"Gender\": \"Male\", \"Age\": 35.0, \"EstimatedSalary\": 88000.0, \"Purchased\": 0}, {\"User ID\": 15798659, \"Gender\": \"Female\", \"Age\": 30.0, \"EstimatedSalary\": 62000.0, \"Purchased\": 0}, {\"User ID\": 15663939, \"Gender\": \"Female\", \"Age\": 31.0, \"EstimatedSalary\": 118000.0, \"Purchased\": 1}, {\"User ID\": 15694946, \"Gender\": \"Male\", \"Age\": 24.0, \"EstimatedSalary\": 55000.0, \"Purchased\": 0}, {\"User ID\": 15631912, \"Gender\": \"Female\", \"Age\": 28.0, \"EstimatedSalary\": 85000.0, \"Purchased\": 0}, {\"User ID\": 15768816, \"Gender\": \"Male\", \"Age\": 26.0, \"EstimatedSalary\": 81000.0, \"Purchased\": 0}, {\"User ID\": 15682268, \"Gender\": \"Male\", \"Age\": 35.0, \"EstimatedSalary\": 50000.0, \"Purchased\": 0}, {\"User ID\": 15684801, \"Gender\": \"Male\", \"Age\": 22.0, \"EstimatedSalary\": 81000.0, \"Purchased\": 0}, {\"User ID\": 15636428, \"Gender\": \"Female\", \"Age\": 30.0, \"EstimatedSalary\": 116000.0, \"Purchased\": 0}, {\"User ID\": 15809823, \"Gender\": \"Male\", \"Age\": 26.0, \"EstimatedSalary\": 15000.0, \"Purchased\": 0}, {\"User ID\": 15699284, \"Gender\": \"Female\", \"Age\": 29.0, \"EstimatedSalary\": 28000.0, \"Purchased\": 0}, {\"User ID\": 15786993, \"Gender\": \"Female\", \"Age\": 29.0, \"EstimatedSalary\": 83000.0, \"Purchased\": 0}, {\"User ID\": 15709441, \"Gender\": \"Female\", \"Age\": 35.0, \"EstimatedSalary\": 44000.0, \"Purchased\": 0}, {\"User ID\": 15710257, \"Gender\": \"Female\", \"Age\": 35.0, \"EstimatedSalary\": 25000.0, \"Purchased\": 0}, {\"User ID\": 15582492, \"Gender\": \"Male\", \"Age\": 28.0, \"EstimatedSalary\": 123000.0, \"Purchased\": 1}, {\"User ID\": 15575694, \"Gender\": \"Male\", \"Age\": 35.0, \"EstimatedSalary\": 73000.0, \"Purchased\": 0}, {\"User ID\": 15756820, \"Gender\": \"Female\", \"Age\": 28.0, \"EstimatedSalary\": 37000.0, \"Purchased\": 0}, {\"User ID\": 15766289, \"Gender\": \"Male\", \"Age\": 27.0, \"EstimatedSalary\": 88000.0, \"Purchased\": 0}, {\"User ID\": 15593014, \"Gender\": \"Male\", \"Age\": 28.0, \"EstimatedSalary\": 59000.0, \"Purchased\": 0}, {\"User ID\": 15584545, \"Gender\": \"Female\", \"Age\": 32.0, \"EstimatedSalary\": 86000.0, \"Purchased\": 0}, {\"User ID\": 15675949, \"Gender\": \"Female\", \"Age\": 33.0, \"EstimatedSalary\": 149000.0, \"Purchased\": 1}, {\"User ID\": 15672091, \"Gender\": \"Female\", \"Age\": 19.0, \"EstimatedSalary\": 21000.0, \"Purchased\": 0}, {\"User ID\": 15801658, \"Gender\": \"Male\", \"Age\": 21.0, \"EstimatedSalary\": 72000.0, \"Purchased\": 0}, {\"User ID\": 15706185, \"Gender\": \"Female\", \"Age\": 26.0, \"EstimatedSalary\": 35000.0, \"Purchased\": 0}, {\"User ID\": 15789863, \"Gender\": \"Male\", \"Age\": 27.0, \"EstimatedSalary\": 89000.0, \"Purchased\": 0}, {\"User ID\": 15720943, \"Gender\": \"Male\", \"Age\": 26.0, \"EstimatedSalary\": 86000.0, \"Purchased\": 0}, {\"User ID\": 15697997, \"Gender\": \"Female\", \"Age\": 38.0, \"EstimatedSalary\": 80000.0, \"Purchased\": 0}, {\"User ID\": 15665416, \"Gender\": \"Female\", \"Age\": 39.0, \"EstimatedSalary\": 71000.0, \"Purchased\": 0}, {\"User ID\": 15660200, \"Gender\": \"Female\", \"Age\": 37.0, \"EstimatedSalary\": 71000.0, \"Purchased\": 0}, {\"User ID\": 15619653, \"Gender\": \"Male\", \"Age\": 38.0, \"EstimatedSalary\": 61000.0, \"Purchased\": 0}, {\"User ID\": 15773447, \"Gender\": \"Male\", \"Age\": 37.0, \"EstimatedSalary\": 55000.0, \"Purchased\": 0}, {\"User ID\": 15739160, \"Gender\": \"Male\", \"Age\": 42.0, \"EstimatedSalary\": 80000.0, \"Purchased\": 0}, {\"User ID\": 15689237, \"Gender\": \"Male\", \"Age\": 40.0, \"EstimatedSalary\": 57000.0, \"Purchased\": 0}, {\"User ID\": 15679297, \"Gender\": \"Male\", \"Age\": 35.0, \"EstimatedSalary\": 75000.0, \"Purchased\": 0}, {\"User ID\": 15591433, \"Gender\": \"Male\", \"Age\": 36.0, \"EstimatedSalary\": 52000.0, \"Purchased\": 0}, {\"User ID\": 15642725, \"Gender\": \"Male\", \"Age\": 40.0, \"EstimatedSalary\": 59000.0, \"Purchased\": 0}, {\"User ID\": 15701962, \"Gender\": \"Male\", \"Age\": 41.0, \"EstimatedSalary\": 59000.0, \"Purchased\": 0}, {\"User ID\": 15811613, \"Gender\": \"Female\", \"Age\": 36.0, \"EstimatedSalary\": 75000.0, \"Purchased\": 0}, {\"User ID\": 15741049, \"Gender\": \"Male\", \"Age\": 37.0, \"EstimatedSalary\": 72000.0, \"Purchased\": 0}, {\"User ID\": 15724423, \"Gender\": \"Female\", \"Age\": 40.0, \"EstimatedSalary\": 75000.0, \"Purchased\": 0}, {\"User ID\": 15574305, \"Gender\": \"Male\", \"Age\": 35.0, \"EstimatedSalary\": 53000.0, \"Purchased\": 0}, {\"User ID\": 15678168, \"Gender\": \"Female\", \"Age\": 41.0, \"EstimatedSalary\": 51000.0, \"Purchased\": 0}, {\"User ID\": 15697020, \"Gender\": \"Female\", \"Age\": 39.0, \"EstimatedSalary\": 61000.0, \"Purchased\": 0}, {\"User ID\": 15610801, \"Gender\": \"Male\", \"Age\": 42.0, \"EstimatedSalary\": 65000.0, \"Purchased\": 0}, {\"User ID\": 15745232, \"Gender\": \"Male\", \"Age\": 26.0, \"EstimatedSalary\": 32000.0, \"Purchased\": 0}, {\"User ID\": 15722758, \"Gender\": \"Male\", \"Age\": 30.0, \"EstimatedSalary\": 17000.0, \"Purchased\": 0}, {\"User ID\": 15792102, \"Gender\": \"Female\", \"Age\": 26.0, \"EstimatedSalary\": 84000.0, \"Purchased\": 0}, {\"User ID\": 15675185, \"Gender\": \"Male\", \"Age\": 31.0, \"EstimatedSalary\": 58000.0, \"Purchased\": 0}, {\"User ID\": 15801247, \"Gender\": \"Male\", \"Age\": 33.0, \"EstimatedSalary\": 31000.0, \"Purchased\": 0}, {\"User ID\": 15725660, \"Gender\": \"Male\", \"Age\": 30.0, \"EstimatedSalary\": 87000.0, \"Purchased\": 0}, {\"User ID\": 15638963, \"Gender\": \"Female\", \"Age\": 21.0, \"EstimatedSalary\": 68000.0, \"Purchased\": 0}, {\"User ID\": 15800061, \"Gender\": \"Female\", \"Age\": 28.0, \"EstimatedSalary\": 55000.0, \"Purchased\": 0}, {\"User ID\": 15578006, \"Gender\": \"Male\", \"Age\": 23.0, \"EstimatedSalary\": 63000.0, \"Purchased\": 0}, {\"User ID\": 15668504, \"Gender\": \"Female\", \"Age\": 20.0, \"EstimatedSalary\": 82000.0, \"Purchased\": 0}, {\"User ID\": 15687491, \"Gender\": \"Male\", \"Age\": 30.0, \"EstimatedSalary\": 107000.0, \"Purchased\": 1}, {\"User ID\": 15610403, \"Gender\": \"Female\", \"Age\": 28.0, \"EstimatedSalary\": 59000.0, \"Purchased\": 0}, {\"User ID\": 15741094, \"Gender\": \"Male\", \"Age\": 19.0, \"EstimatedSalary\": 25000.0, \"Purchased\": 0}, {\"User ID\": 15807909, \"Gender\": \"Male\", \"Age\": 19.0, \"EstimatedSalary\": 85000.0, \"Purchased\": 0}, {\"User ID\": 15666141, \"Gender\": \"Female\", \"Age\": 18.0, \"EstimatedSalary\": 68000.0, \"Purchased\": 0}, {\"User ID\": 15617134, \"Gender\": \"Male\", \"Age\": 35.0, \"EstimatedSalary\": 59000.0, \"Purchased\": 0}, {\"User ID\": 15783029, \"Gender\": \"Male\", \"Age\": 30.0, \"EstimatedSalary\": 89000.0, \"Purchased\": 0}, {\"User ID\": 15622833, \"Gender\": \"Female\", \"Age\": 34.0, \"EstimatedSalary\": 25000.0, \"Purchased\": 0}, {\"User ID\": 15746422, \"Gender\": \"Female\", \"Age\": 24.0, \"EstimatedSalary\": 89000.0, \"Purchased\": 0}, {\"User ID\": 15750839, \"Gender\": \"Female\", \"Age\": 27.0, \"EstimatedSalary\": 96000.0, \"Purchased\": 1}, {\"User ID\": 15749130, \"Gender\": \"Female\", \"Age\": 41.0, \"EstimatedSalary\": 30000.0, \"Purchased\": 0}, {\"User ID\": 15779862, \"Gender\": \"Male\", \"Age\": 29.0, \"EstimatedSalary\": 61000.0, \"Purchased\": 0}, {\"User ID\": 15767871, \"Gender\": \"Male\", \"Age\": 20.0, \"EstimatedSalary\": 74000.0, \"Purchased\": 0}, {\"User ID\": 15679651, \"Gender\": \"Female\", \"Age\": 26.0, \"EstimatedSalary\": 15000.0, \"Purchased\": 0}, {\"User ID\": 15576219, \"Gender\": \"Male\", \"Age\": 41.0, \"EstimatedSalary\": 45000.0, \"Purchased\": 0}, {\"User ID\": 15699247, \"Gender\": \"Male\", \"Age\": 31.0, \"EstimatedSalary\": 76000.0, \"Purchased\": 0}, {\"User ID\": 15619087, \"Gender\": \"Female\", \"Age\": 36.0, \"EstimatedSalary\": 50000.0, \"Purchased\": 0}, {\"User ID\": 15605327, \"Gender\": \"Male\", \"Age\": 40.0, \"EstimatedSalary\": 47000.0, \"Purchased\": 0}, {\"User ID\": 15610140, \"Gender\": \"Female\", \"Age\": 31.0, \"EstimatedSalary\": 15000.0, \"Purchased\": 0}, {\"User ID\": 15791174, \"Gender\": \"Male\", \"Age\": 46.0, \"EstimatedSalary\": 59000.0, \"Purchased\": 0}, {\"User ID\": 15602373, \"Gender\": \"Male\", \"Age\": 29.0, \"EstimatedSalary\": 75000.0, \"Purchased\": 0}, {\"User ID\": 15762605, \"Gender\": \"Male\", \"Age\": 26.0, \"EstimatedSalary\": 30000.0, \"Purchased\": 0}, {\"User ID\": 15598840, \"Gender\": \"Female\", \"Age\": 32.0, \"EstimatedSalary\": 135000.0, \"Purchased\": 1}, {\"User ID\": 15744279, \"Gender\": \"Male\", \"Age\": 32.0, \"EstimatedSalary\": 100000.0, \"Purchased\": 1}, {\"User ID\": 15670619, \"Gender\": \"Male\", \"Age\": 25.0, \"EstimatedSalary\": 90000.0, \"Purchased\": 0}, {\"User ID\": 15599533, \"Gender\": \"Female\", \"Age\": 37.0, \"EstimatedSalary\": 33000.0, \"Purchased\": 0}, {\"User ID\": 15757837, \"Gender\": \"Male\", \"Age\": 35.0, \"EstimatedSalary\": 38000.0, \"Purchased\": 0}, {\"User ID\": 15697574, \"Gender\": \"Female\", \"Age\": 33.0, \"EstimatedSalary\": 69000.0, \"Purchased\": 0}, {\"User ID\": 15578738, \"Gender\": \"Female\", \"Age\": 18.0, \"EstimatedSalary\": 86000.0, \"Purchased\": 0}, {\"User ID\": 15762228, \"Gender\": \"Female\", \"Age\": 22.0, \"EstimatedSalary\": 55000.0, \"Purchased\": 0}, {\"User ID\": 15614827, \"Gender\": \"Female\", \"Age\": 35.0, \"EstimatedSalary\": 71000.0, \"Purchased\": 0}, {\"User ID\": 15789815, \"Gender\": \"Male\", \"Age\": 29.0, \"EstimatedSalary\": 148000.0, \"Purchased\": 1}, {\"User ID\": 15579781, \"Gender\": \"Female\", \"Age\": 29.0, \"EstimatedSalary\": 47000.0, \"Purchased\": 0}, {\"User ID\": 15587013, \"Gender\": \"Male\", \"Age\": 21.0, \"EstimatedSalary\": 88000.0, \"Purchased\": 0}, {\"User ID\": 15570932, \"Gender\": \"Male\", \"Age\": 34.0, \"EstimatedSalary\": 115000.0, \"Purchased\": 0}, {\"User ID\": 15794661, \"Gender\": \"Female\", \"Age\": 26.0, \"EstimatedSalary\": 118000.0, \"Purchased\": 0}, {\"User ID\": 15581654, \"Gender\": \"Female\", \"Age\": 34.0, \"EstimatedSalary\": 43000.0, \"Purchased\": 0}, {\"User ID\": 15644296, \"Gender\": \"Female\", \"Age\": 34.0, \"EstimatedSalary\": 72000.0, \"Purchased\": 0}, {\"User ID\": 15614420, \"Gender\": \"Female\", \"Age\": 23.0, \"EstimatedSalary\": 28000.0, \"Purchased\": 0}, {\"User ID\": 15609653, \"Gender\": \"Female\", \"Age\": 35.0, \"EstimatedSalary\": 47000.0, \"Purchased\": 0}, {\"User ID\": 15594577, \"Gender\": \"Male\", \"Age\": 25.0, \"EstimatedSalary\": 22000.0, \"Purchased\": 0}, {\"User ID\": 15584114, \"Gender\": \"Male\", \"Age\": 24.0, \"EstimatedSalary\": 23000.0, \"Purchased\": 0}, {\"User ID\": 15673367, \"Gender\": \"Female\", \"Age\": 31.0, \"EstimatedSalary\": 34000.0, \"Purchased\": 0}, {\"User ID\": 15685576, \"Gender\": \"Male\", \"Age\": 26.0, \"EstimatedSalary\": 16000.0, \"Purchased\": 0}, {\"User ID\": 15774727, \"Gender\": \"Female\", \"Age\": 31.0, \"EstimatedSalary\": 71000.0, \"Purchased\": 0}, {\"User ID\": 15694288, \"Gender\": \"Female\", \"Age\": 32.0, \"EstimatedSalary\": 117000.0, \"Purchased\": 1}, {\"User ID\": 15603319, \"Gender\": \"Male\", \"Age\": 33.0, \"EstimatedSalary\": 43000.0, \"Purchased\": 0}, {\"User ID\": 15759066, \"Gender\": \"Female\", \"Age\": 33.0, \"EstimatedSalary\": 60000.0, \"Purchased\": 0}, {\"User ID\": 15814816, \"Gender\": \"Male\", \"Age\": 31.0, \"EstimatedSalary\": 66000.0, \"Purchased\": 0}, {\"User ID\": 15724402, \"Gender\": \"Female\", \"Age\": 20.0, \"EstimatedSalary\": 82000.0, \"Purchased\": 0}, {\"User ID\": 15571059, \"Gender\": \"Female\", \"Age\": 33.0, \"EstimatedSalary\": 41000.0, \"Purchased\": 0}, {\"User ID\": 15674206, \"Gender\": \"Male\", \"Age\": 35.0, \"EstimatedSalary\": 72000.0, \"Purchased\": 0}, {\"User ID\": 15715160, \"Gender\": \"Male\", \"Age\": 28.0, \"EstimatedSalary\": 32000.0, \"Purchased\": 0}, {\"User ID\": 15730448, \"Gender\": \"Male\", \"Age\": 24.0, \"EstimatedSalary\": 84000.0, \"Purchased\": 0}, {\"User ID\": 15662067, \"Gender\": \"Female\", \"Age\": 19.0, \"EstimatedSalary\": 26000.0, \"Purchased\": 0}, {\"User ID\": 15779581, \"Gender\": \"Male\", \"Age\": 29.0, \"EstimatedSalary\": 43000.0, \"Purchased\": 0}, {\"User ID\": 15662901, \"Gender\": \"Male\", \"Age\": 19.0, \"EstimatedSalary\": 70000.0, \"Purchased\": 0}, {\"User ID\": 15689751, \"Gender\": \"Male\", \"Age\": 28.0, \"EstimatedSalary\": 89000.0, \"Purchased\": 0}, {\"User ID\": 15667742, \"Gender\": \"Male\", \"Age\": 34.0, \"EstimatedSalary\": 43000.0, \"Purchased\": 0}, {\"User ID\": 15738448, \"Gender\": \"Female\", \"Age\": 30.0, \"EstimatedSalary\": 79000.0, \"Purchased\": 0}, {\"User ID\": 15680243, \"Gender\": \"Female\", \"Age\": 20.0, \"EstimatedSalary\": 36000.0, \"Purchased\": 0}, {\"User ID\": 15745083, \"Gender\": \"Male\", \"Age\": 26.0, \"EstimatedSalary\": 80000.0, \"Purchased\": 0}, {\"User ID\": 15708228, \"Gender\": \"Male\", \"Age\": 35.0, \"EstimatedSalary\": 22000.0, \"Purchased\": 0}, {\"User ID\": 15628523, \"Gender\": \"Male\", \"Age\": 35.0, \"EstimatedSalary\": 39000.0, \"Purchased\": 0}, {\"User ID\": 15708196, \"Gender\": \"Male\", \"Age\": 49.0, \"EstimatedSalary\": 74000.0, \"Purchased\": 0}, {\"User ID\": 15735549, \"Gender\": \"Female\", \"Age\": 39.0, \"EstimatedSalary\": 134000.0, \"Purchased\": 1}, {\"User ID\": 15809347, \"Gender\": \"Female\", \"Age\": 41.0, \"EstimatedSalary\": 71000.0, \"Purchased\": 0}, {\"User ID\": 15660866, \"Gender\": \"Female\", \"Age\": 58.0, \"EstimatedSalary\": 101000.0, \"Purchased\": 1}, {\"User ID\": 15766609, \"Gender\": \"Female\", \"Age\": 47.0, \"EstimatedSalary\": 47000.0, \"Purchased\": 0}, {\"User ID\": 15654230, \"Gender\": \"Female\", \"Age\": 55.0, \"EstimatedSalary\": 130000.0, \"Purchased\": 1}, {\"User ID\": 15794566, \"Gender\": \"Female\", \"Age\": 52.0, \"EstimatedSalary\": 114000.0, \"Purchased\": 0}, {\"User ID\": 15800890, \"Gender\": \"Female\", \"Age\": 40.0, \"EstimatedSalary\": 142000.0, \"Purchased\": 1}, {\"User ID\": 15697424, \"Gender\": \"Female\", \"Age\": 46.0, \"EstimatedSalary\": 22000.0, \"Purchased\": 0}, {\"User ID\": 15724536, \"Gender\": \"Female\", \"Age\": 48.0, \"EstimatedSalary\": 96000.0, \"Purchased\": 1}, {\"User ID\": 15735878, \"Gender\": \"Male\", \"Age\": 52.0, \"EstimatedSalary\": 150000.0, \"Purchased\": 1}, {\"User ID\": 15707596, \"Gender\": \"Female\", \"Age\": 59.0, \"EstimatedSalary\": 42000.0, \"Purchased\": 0}, {\"User ID\": 15657163, \"Gender\": \"Male\", \"Age\": 35.0, \"EstimatedSalary\": 58000.0, \"Purchased\": 0}, {\"User ID\": 15622478, \"Gender\": \"Male\", \"Age\": 47.0, \"EstimatedSalary\": 43000.0, \"Purchased\": 0}, {\"User ID\": 15779529, \"Gender\": \"Female\", \"Age\": 60.0, \"EstimatedSalary\": 108000.0, \"Purchased\": 1}, {\"User ID\": 15636023, \"Gender\": \"Male\", \"Age\": 49.0, \"EstimatedSalary\": 65000.0, \"Purchased\": 0}, {\"User ID\": 15582066, \"Gender\": \"Male\", \"Age\": 40.0, \"EstimatedSalary\": 78000.0, \"Purchased\": 0}, {\"User ID\": 15666675, \"Gender\": \"Female\", \"Age\": 46.0, \"EstimatedSalary\": 96000.0, \"Purchased\": 0}, {\"User ID\": 15732987, \"Gender\": \"Male\", \"Age\": 59.0, \"EstimatedSalary\": 143000.0, \"Purchased\": 1}, {\"User ID\": 15789432, \"Gender\": \"Female\", \"Age\": 41.0, \"EstimatedSalary\": 80000.0, \"Purchased\": 0}, {\"User ID\": 15663161, \"Gender\": \"Male\", \"Age\": 35.0, \"EstimatedSalary\": 91000.0, \"Purchased\": 1}, {\"User ID\": 15694879, \"Gender\": \"Male\", \"Age\": 37.0, \"EstimatedSalary\": 144000.0, \"Purchased\": 1}, {\"User ID\": 15593715, \"Gender\": \"Male\", \"Age\": 60.0, \"EstimatedSalary\": 102000.0, \"Purchased\": 1}, {\"User ID\": 15575002, \"Gender\": \"Female\", \"Age\": 35.0, \"EstimatedSalary\": 60000.0, \"Purchased\": 0}, {\"User ID\": 15622171, \"Gender\": \"Male\", \"Age\": 37.0, \"EstimatedSalary\": 53000.0, \"Purchased\": 0}, {\"User ID\": 15795224, \"Gender\": \"Female\", \"Age\": 36.0, \"EstimatedSalary\": 126000.0, \"Purchased\": 1}, {\"User ID\": 15685346, \"Gender\": \"Male\", \"Age\": 56.0, \"EstimatedSalary\": 133000.0, \"Purchased\": 1}, {\"User ID\": 15691808, \"Gender\": \"Female\", \"Age\": 40.0, \"EstimatedSalary\": 72000.0, \"Purchased\": 0}, {\"User ID\": 15721007, \"Gender\": \"Female\", \"Age\": 42.0, \"EstimatedSalary\": 80000.0, \"Purchased\": 1}, {\"User ID\": 15794253, \"Gender\": \"Female\", \"Age\": 35.0, \"EstimatedSalary\": 147000.0, \"Purchased\": 1}, {\"User ID\": 15694453, \"Gender\": \"Male\", \"Age\": 39.0, \"EstimatedSalary\": 42000.0, \"Purchased\": 0}, {\"User ID\": 15813113, \"Gender\": \"Male\", \"Age\": 40.0, \"EstimatedSalary\": 107000.0, \"Purchased\": 1}, {\"User ID\": 15614187, \"Gender\": \"Male\", \"Age\": 49.0, \"EstimatedSalary\": 86000.0, \"Purchased\": 1}, {\"User ID\": 15619407, \"Gender\": \"Female\", \"Age\": 38.0, \"EstimatedSalary\": 112000.0, \"Purchased\": 0}, {\"User ID\": 15646227, \"Gender\": \"Male\", \"Age\": 46.0, \"EstimatedSalary\": 79000.0, \"Purchased\": 1}, {\"User ID\": 15660541, \"Gender\": \"Male\", \"Age\": 40.0, \"EstimatedSalary\": 57000.0, \"Purchased\": 0}, {\"User ID\": 15753874, \"Gender\": \"Female\", \"Age\": 37.0, \"EstimatedSalary\": 80000.0, \"Purchased\": 0}, {\"User ID\": 15617877, \"Gender\": \"Female\", \"Age\": 46.0, \"EstimatedSalary\": 82000.0, \"Purchased\": 0}, {\"User ID\": 15772073, \"Gender\": \"Female\", \"Age\": 53.0, \"EstimatedSalary\": 143000.0, \"Purchased\": 1}, {\"User ID\": 15701537, \"Gender\": \"Male\", \"Age\": 42.0, \"EstimatedSalary\": 149000.0, \"Purchased\": 1}, {\"User ID\": 15736228, \"Gender\": \"Male\", \"Age\": 38.0, \"EstimatedSalary\": 59000.0, \"Purchased\": 0}, {\"User ID\": 15780572, \"Gender\": \"Female\", \"Age\": 50.0, \"EstimatedSalary\": 88000.0, \"Purchased\": 1}, {\"User ID\": 15769596, \"Gender\": \"Female\", \"Age\": 56.0, \"EstimatedSalary\": 104000.0, \"Purchased\": 1}, {\"User ID\": 15586996, \"Gender\": \"Female\", \"Age\": 41.0, \"EstimatedSalary\": 72000.0, \"Purchased\": 0}, {\"User ID\": 15722061, \"Gender\": \"Female\", \"Age\": 51.0, \"EstimatedSalary\": 146000.0, \"Purchased\": 1}, {\"User ID\": 15638003, \"Gender\": \"Female\", \"Age\": 35.0, \"EstimatedSalary\": 50000.0, \"Purchased\": 0}, {\"User ID\": 15775590, \"Gender\": \"Female\", \"Age\": 57.0, \"EstimatedSalary\": 122000.0, \"Purchased\": 1}, {\"User ID\": 15730688, \"Gender\": \"Male\", \"Age\": 41.0, \"EstimatedSalary\": 52000.0, \"Purchased\": 0}, {\"User ID\": 15753102, \"Gender\": \"Female\", \"Age\": 35.0, \"EstimatedSalary\": 97000.0, \"Purchased\": 1}, {\"User ID\": 15810075, \"Gender\": \"Female\", \"Age\": 44.0, \"EstimatedSalary\": 39000.0, \"Purchased\": 0}, {\"User ID\": 15723373, \"Gender\": \"Male\", \"Age\": 37.0, \"EstimatedSalary\": 52000.0, \"Purchased\": 0}, {\"User ID\": 15795298, \"Gender\": \"Female\", \"Age\": 48.0, \"EstimatedSalary\": 134000.0, \"Purchased\": 1}, {\"User ID\": 15584320, \"Gender\": \"Female\", \"Age\": 37.0, \"EstimatedSalary\": 146000.0, \"Purchased\": 1}, {\"User ID\": 15724161, \"Gender\": \"Female\", \"Age\": 50.0, \"EstimatedSalary\": 44000.0, \"Purchased\": 0}, {\"User ID\": 15750056, \"Gender\": \"Female\", \"Age\": 52.0, \"EstimatedSalary\": 90000.0, \"Purchased\": 1}, {\"User ID\": 15609637, \"Gender\": \"Female\", \"Age\": 41.0, \"EstimatedSalary\": 72000.0, \"Purchased\": 0}, {\"User ID\": 15794493, \"Gender\": \"Male\", \"Age\": 40.0, \"EstimatedSalary\": 57000.0, \"Purchased\": 0}, {\"User ID\": 15569641, \"Gender\": \"Female\", \"Age\": 58.0, \"EstimatedSalary\": 95000.0, \"Purchased\": 1}, {\"User ID\": 15815236, \"Gender\": \"Female\", \"Age\": 45.0, \"EstimatedSalary\": 131000.0, \"Purchased\": 1}, {\"User ID\": 15811177, \"Gender\": \"Female\", \"Age\": 35.0, \"EstimatedSalary\": 77000.0, \"Purchased\": 0}, {\"User ID\": 15680587, \"Gender\": \"Male\", \"Age\": 36.0, \"EstimatedSalary\": 144000.0, \"Purchased\": 1}, {\"User ID\": 15672821, \"Gender\": \"Female\", \"Age\": 55.0, \"EstimatedSalary\": 125000.0, \"Purchased\": 1}, {\"User ID\": 15767681, \"Gender\": \"Female\", \"Age\": 35.0, \"EstimatedSalary\": 72000.0, \"Purchased\": 0}, {\"User ID\": 15600379, \"Gender\": \"Male\", \"Age\": 48.0, \"EstimatedSalary\": 90000.0, \"Purchased\": 1}, {\"User ID\": 15801336, \"Gender\": \"Female\", \"Age\": 42.0, \"EstimatedSalary\": 108000.0, \"Purchased\": 1}, {\"User ID\": 15721592, \"Gender\": \"Male\", \"Age\": 40.0, \"EstimatedSalary\": 75000.0, \"Purchased\": 0}, {\"User ID\": 15581282, \"Gender\": \"Male\", \"Age\": 37.0, \"EstimatedSalary\": 74000.0, \"Purchased\": 0}, {\"User ID\": 15746203, \"Gender\": \"Female\", \"Age\": 47.0, \"EstimatedSalary\": 144000.0, \"Purchased\": 1}, {\"User ID\": 15583137, \"Gender\": \"Male\", \"Age\": 40.0, \"EstimatedSalary\": 61000.0, \"Purchased\": 0}, {\"User ID\": 15680752, \"Gender\": \"Female\", \"Age\": 43.0, \"EstimatedSalary\": 133000.0, \"Purchased\": 0}, {\"User ID\": 15688172, \"Gender\": \"Female\", \"Age\": 59.0, \"EstimatedSalary\": 76000.0, \"Purchased\": 1}, {\"User ID\": 15791373, \"Gender\": \"Male\", \"Age\": 60.0, \"EstimatedSalary\": 42000.0, \"Purchased\": 1}, {\"User ID\": 15589449, \"Gender\": \"Male\", \"Age\": 39.0, \"EstimatedSalary\": 106000.0, \"Purchased\": 1}, {\"User ID\": 15692819, \"Gender\": \"Female\", \"Age\": 57.0, \"EstimatedSalary\": 26000.0, \"Purchased\": 1}, {\"User ID\": 15727467, \"Gender\": \"Male\", \"Age\": 57.0, \"EstimatedSalary\": 74000.0, \"Purchased\": 1}, {\"User ID\": 15734312, \"Gender\": \"Male\", \"Age\": 38.0, \"EstimatedSalary\": 71000.0, \"Purchased\": 0}, {\"User ID\": 15764604, \"Gender\": \"Male\", \"Age\": 49.0, \"EstimatedSalary\": 88000.0, \"Purchased\": 1}, {\"User ID\": 15613014, \"Gender\": \"Female\", \"Age\": 52.0, \"EstimatedSalary\": 38000.0, \"Purchased\": 1}, {\"User ID\": 15759684, \"Gender\": \"Female\", \"Age\": 50.0, \"EstimatedSalary\": 36000.0, \"Purchased\": 1}, {\"User ID\": 15609669, \"Gender\": \"Female\", \"Age\": 59.0, \"EstimatedSalary\": 88000.0, \"Purchased\": 1}, {\"User ID\": 15685536, \"Gender\": \"Male\", \"Age\": 35.0, \"EstimatedSalary\": 61000.0, \"Purchased\": 0}, {\"User ID\": 15750447, \"Gender\": \"Male\", \"Age\": 37.0, \"EstimatedSalary\": 70000.0, \"Purchased\": 1}, {\"User ID\": 15663249, \"Gender\": \"Female\", \"Age\": 52.0, \"EstimatedSalary\": 21000.0, \"Purchased\": 1}, {\"User ID\": 15638646, \"Gender\": \"Male\", \"Age\": 48.0, \"EstimatedSalary\": 141000.0, \"Purchased\": 0}, {\"User ID\": 15734161, \"Gender\": \"Female\", \"Age\": 37.0, \"EstimatedSalary\": 93000.0, \"Purchased\": 1}, {\"User ID\": 15631070, \"Gender\": \"Female\", \"Age\": 37.0, \"EstimatedSalary\": 62000.0, \"Purchased\": 0}, {\"User ID\": 15761950, \"Gender\": \"Female\", \"Age\": 48.0, \"EstimatedSalary\": 138000.0, \"Purchased\": 1}, {\"User ID\": 15649668, \"Gender\": \"Male\", \"Age\": 41.0, \"EstimatedSalary\": 79000.0, \"Purchased\": 0}, {\"User ID\": 15713912, \"Gender\": \"Female\", \"Age\": 37.0, \"EstimatedSalary\": 78000.0, \"Purchased\": 1}, {\"User ID\": 15586757, \"Gender\": \"Male\", \"Age\": 39.0, \"EstimatedSalary\": 134000.0, \"Purchased\": 1}, {\"User ID\": 15596522, \"Gender\": \"Male\", \"Age\": 49.0, \"EstimatedSalary\": 89000.0, \"Purchased\": 1}, {\"User ID\": 15625395, \"Gender\": \"Male\", \"Age\": 55.0, \"EstimatedSalary\": 39000.0, \"Purchased\": 1}, {\"User ID\": 15760570, \"Gender\": \"Male\", \"Age\": 37.0, \"EstimatedSalary\": 77000.0, \"Purchased\": 0}, {\"User ID\": 15566689, \"Gender\": \"Female\", \"Age\": 35.0, \"EstimatedSalary\": 57000.0, \"Purchased\": 0}, {\"User ID\": 15725794, \"Gender\": \"Female\", \"Age\": 36.0, \"EstimatedSalary\": 63000.0, \"Purchased\": 0}, {\"User ID\": 15673539, \"Gender\": \"Male\", \"Age\": 42.0, \"EstimatedSalary\": 73000.0, \"Purchased\": 1}, {\"User ID\": 15705298, \"Gender\": \"Female\", \"Age\": 43.0, \"EstimatedSalary\": 112000.0, \"Purchased\": 1}, {\"User ID\": 15675791, \"Gender\": \"Male\", \"Age\": 45.0, \"EstimatedSalary\": 79000.0, \"Purchased\": 0}, {\"User ID\": 15747043, \"Gender\": \"Male\", \"Age\": 46.0, \"EstimatedSalary\": 117000.0, \"Purchased\": 1}, {\"User ID\": 15736397, \"Gender\": \"Female\", \"Age\": 58.0, \"EstimatedSalary\": 38000.0, \"Purchased\": 1}, {\"User ID\": 15678201, \"Gender\": \"Male\", \"Age\": 48.0, \"EstimatedSalary\": 74000.0, \"Purchased\": 1}, {\"User ID\": 15720745, \"Gender\": \"Female\", \"Age\": 37.0, \"EstimatedSalary\": 137000.0, \"Purchased\": 1}, {\"User ID\": 15637593, \"Gender\": \"Male\", \"Age\": 37.0, \"EstimatedSalary\": 79000.0, \"Purchased\": 1}, {\"User ID\": 15598070, \"Gender\": \"Female\", \"Age\": 40.0, \"EstimatedSalary\": 60000.0, \"Purchased\": 0}, {\"User ID\": 15787550, \"Gender\": \"Male\", \"Age\": 42.0, \"EstimatedSalary\": 54000.0, \"Purchased\": 0}, {\"User ID\": 15603942, \"Gender\": \"Female\", \"Age\": 51.0, \"EstimatedSalary\": 134000.0, \"Purchased\": 0}, {\"User ID\": 15733973, \"Gender\": \"Female\", \"Age\": 47.0, \"EstimatedSalary\": 113000.0, \"Purchased\": 1}, {\"User ID\": 15596761, \"Gender\": \"Male\", \"Age\": 36.0, \"EstimatedSalary\": 125000.0, \"Purchased\": 1}, {\"User ID\": 15652400, \"Gender\": \"Female\", \"Age\": 38.0, \"EstimatedSalary\": 50000.0, \"Purchased\": 0}, {\"User ID\": 15717893, \"Gender\": \"Female\", \"Age\": 42.0, \"EstimatedSalary\": 70000.0, \"Purchased\": 0}, {\"User ID\": 15622585, \"Gender\": \"Male\", \"Age\": 39.0, \"EstimatedSalary\": 96000.0, \"Purchased\": 1}, {\"User ID\": 15733964, \"Gender\": \"Female\", \"Age\": 38.0, \"EstimatedSalary\": 50000.0, \"Purchased\": 0}, {\"User ID\": 15753861, \"Gender\": \"Female\", \"Age\": 49.0, \"EstimatedSalary\": 141000.0, \"Purchased\": 1}, {\"User ID\": 15747097, \"Gender\": \"Female\", \"Age\": 39.0, \"EstimatedSalary\": 79000.0, \"Purchased\": 0}, {\"User ID\": 15594762, \"Gender\": \"Female\", \"Age\": 39.0, \"EstimatedSalary\": 75000.0, \"Purchased\": 1}, {\"User ID\": 15667417, \"Gender\": \"Female\", \"Age\": 54.0, \"EstimatedSalary\": 104000.0, \"Purchased\": 1}, {\"User ID\": 15684861, \"Gender\": \"Male\", \"Age\": 35.0, \"EstimatedSalary\": 55000.0, \"Purchased\": 0}, {\"User ID\": 15742204, \"Gender\": \"Male\", \"Age\": 45.0, \"EstimatedSalary\": 32000.0, \"Purchased\": 1}, {\"User ID\": 15623502, \"Gender\": \"Male\", \"Age\": 36.0, \"EstimatedSalary\": 60000.0, \"Purchased\": 0}, {\"User ID\": 15774872, \"Gender\": \"Female\", \"Age\": 52.0, \"EstimatedSalary\": 138000.0, \"Purchased\": 1}, {\"User ID\": 15611191, \"Gender\": \"Female\", \"Age\": 53.0, \"EstimatedSalary\": 82000.0, \"Purchased\": 1}, {\"User ID\": 15674331, \"Gender\": \"Male\", \"Age\": 41.0, \"EstimatedSalary\": 52000.0, \"Purchased\": 0}, {\"User ID\": 15619465, \"Gender\": \"Female\", \"Age\": 48.0, \"EstimatedSalary\": 30000.0, \"Purchased\": 1}, {\"User ID\": 15575247, \"Gender\": \"Female\", \"Age\": 48.0, \"EstimatedSalary\": 131000.0, \"Purchased\": 1}, {\"User ID\": 15695679, \"Gender\": \"Female\", \"Age\": 41.0, \"EstimatedSalary\": 60000.0, \"Purchased\": 0}, {\"User ID\": 15713463, \"Gender\": \"Male\", \"Age\": 41.0, \"EstimatedSalary\": 72000.0, \"Purchased\": 0}, {\"User ID\": 15785170, \"Gender\": \"Female\", \"Age\": 42.0, \"EstimatedSalary\": 75000.0, \"Purchased\": 0}, {\"User ID\": 15796351, \"Gender\": \"Male\", \"Age\": 36.0, \"EstimatedSalary\": 118000.0, \"Purchased\": 1}, {\"User ID\": 15639576, \"Gender\": \"Female\", \"Age\": 47.0, \"EstimatedSalary\": 107000.0, \"Purchased\": 1}, {\"User ID\": 15693264, \"Gender\": \"Male\", \"Age\": 38.0, \"EstimatedSalary\": 51000.0, \"Purchased\": 0}, {\"User ID\": 15589715, \"Gender\": \"Female\", \"Age\": 48.0, \"EstimatedSalary\": 119000.0, \"Purchased\": 1}, {\"User ID\": 15769902, \"Gender\": \"Male\", \"Age\": 42.0, \"EstimatedSalary\": 65000.0, \"Purchased\": 0}, {\"User ID\": 15587177, \"Gender\": \"Male\", \"Age\": 40.0, \"EstimatedSalary\": 65000.0, \"Purchased\": 0}, {\"User ID\": 15814553, \"Gender\": \"Male\", \"Age\": 57.0, \"EstimatedSalary\": 60000.0, \"Purchased\": 1}, {\"User ID\": 15601550, \"Gender\": \"Female\", \"Age\": 36.0, \"EstimatedSalary\": 54000.0, \"Purchased\": 0}, {\"User ID\": 15664907, \"Gender\": \"Male\", \"Age\": 58.0, \"EstimatedSalary\": 144000.0, \"Purchased\": 1}, {\"User ID\": 15612465, \"Gender\": \"Male\", \"Age\": 35.0, \"EstimatedSalary\": 79000.0, \"Purchased\": 0}, {\"User ID\": 15810800, \"Gender\": \"Female\", \"Age\": 38.0, \"EstimatedSalary\": 55000.0, \"Purchased\": 0}, {\"User ID\": 15665760, \"Gender\": \"Male\", \"Age\": 39.0, \"EstimatedSalary\": 122000.0, \"Purchased\": 1}, {\"User ID\": 15588080, \"Gender\": \"Female\", \"Age\": 53.0, \"EstimatedSalary\": 104000.0, \"Purchased\": 1}, {\"User ID\": 15776844, \"Gender\": \"Male\", \"Age\": 35.0, \"EstimatedSalary\": 75000.0, \"Purchased\": 0}, {\"User ID\": 15717560, \"Gender\": \"Female\", \"Age\": 38.0, \"EstimatedSalary\": 65000.0, \"Purchased\": 0}, {\"User ID\": 15629739, \"Gender\": \"Female\", \"Age\": 47.0, \"EstimatedSalary\": 51000.0, \"Purchased\": 1}, {\"User ID\": 15729908, \"Gender\": \"Male\", \"Age\": 47.0, \"EstimatedSalary\": 105000.0, \"Purchased\": 1}, {\"User ID\": 15716781, \"Gender\": \"Female\", \"Age\": 41.0, \"EstimatedSalary\": 63000.0, \"Purchased\": 0}, {\"User ID\": 15646936, \"Gender\": \"Male\", \"Age\": 53.0, \"EstimatedSalary\": 72000.0, \"Purchased\": 1}, {\"User ID\": 15768151, \"Gender\": \"Female\", \"Age\": 54.0, \"EstimatedSalary\": 108000.0, \"Purchased\": 1}, {\"User ID\": 15579212, \"Gender\": \"Male\", \"Age\": 39.0, \"EstimatedSalary\": 77000.0, \"Purchased\": 0}, {\"User ID\": 15721835, \"Gender\": \"Male\", \"Age\": 38.0, \"EstimatedSalary\": 61000.0, \"Purchased\": 0}, {\"User ID\": 15800515, \"Gender\": \"Female\", \"Age\": 38.0, \"EstimatedSalary\": 113000.0, \"Purchased\": 1}, {\"User ID\": 15591279, \"Gender\": \"Male\", \"Age\": 37.0, \"EstimatedSalary\": 75000.0, \"Purchased\": 0}, {\"User ID\": 15587419, \"Gender\": \"Female\", \"Age\": 42.0, \"EstimatedSalary\": 90000.0, \"Purchased\": 1}, {\"User ID\": 15750335, \"Gender\": \"Female\", \"Age\": 37.0, \"EstimatedSalary\": 57000.0, \"Purchased\": 0}, {\"User ID\": 15699619, \"Gender\": \"Male\", \"Age\": 36.0, \"EstimatedSalary\": 99000.0, \"Purchased\": 1}, {\"User ID\": 15606472, \"Gender\": \"Male\", \"Age\": 60.0, \"EstimatedSalary\": 34000.0, \"Purchased\": 1}, {\"User ID\": 15778368, \"Gender\": \"Male\", \"Age\": 54.0, \"EstimatedSalary\": 70000.0, \"Purchased\": 1}, {\"User ID\": 15671387, \"Gender\": \"Female\", \"Age\": 41.0, \"EstimatedSalary\": 72000.0, \"Purchased\": 0}, {\"User ID\": 15573926, \"Gender\": \"Male\", \"Age\": 40.0, \"EstimatedSalary\": 71000.0, \"Purchased\": 1}, {\"User ID\": 15709183, \"Gender\": \"Male\", \"Age\": 42.0, \"EstimatedSalary\": 54000.0, \"Purchased\": 0}, {\"User ID\": 15577514, \"Gender\": \"Male\", \"Age\": 43.0, \"EstimatedSalary\": 129000.0, \"Purchased\": 1}, {\"User ID\": 15778830, \"Gender\": \"Female\", \"Age\": 53.0, \"EstimatedSalary\": 34000.0, \"Purchased\": 1}, {\"User ID\": 15768072, \"Gender\": \"Female\", \"Age\": 47.0, \"EstimatedSalary\": 50000.0, \"Purchased\": 1}, {\"User ID\": 15768293, \"Gender\": \"Female\", \"Age\": 42.0, \"EstimatedSalary\": 79000.0, \"Purchased\": 0}, {\"User ID\": 15654456, \"Gender\": \"Male\", \"Age\": 42.0, \"EstimatedSalary\": 104000.0, \"Purchased\": 1}, {\"User ID\": 15807525, \"Gender\": \"Female\", \"Age\": 59.0, \"EstimatedSalary\": 29000.0, \"Purchased\": 1}, {\"User ID\": 15574372, \"Gender\": \"Female\", \"Age\": 58.0, \"EstimatedSalary\": 47000.0, \"Purchased\": 1}, {\"User ID\": 15671249, \"Gender\": \"Male\", \"Age\": 46.0, \"EstimatedSalary\": 88000.0, \"Purchased\": 1}, {\"User ID\": 15779744, \"Gender\": \"Male\", \"Age\": 38.0, \"EstimatedSalary\": 71000.0, \"Purchased\": 0}, {\"User ID\": 15624755, \"Gender\": \"Female\", \"Age\": 54.0, \"EstimatedSalary\": 26000.0, \"Purchased\": 1}, {\"User ID\": 15611430, \"Gender\": \"Female\", \"Age\": 60.0, \"EstimatedSalary\": 46000.0, \"Purchased\": 1}, {\"User ID\": 15774744, \"Gender\": \"Male\", \"Age\": 60.0, \"EstimatedSalary\": 83000.0, \"Purchased\": 1}, {\"User ID\": 15629885, \"Gender\": \"Female\", \"Age\": 39.0, \"EstimatedSalary\": 73000.0, \"Purchased\": 0}, {\"User ID\": 15708791, \"Gender\": \"Male\", \"Age\": 59.0, \"EstimatedSalary\": 130000.0, \"Purchased\": 1}, {\"User ID\": 15793890, \"Gender\": \"Female\", \"Age\": 37.0, \"EstimatedSalary\": 80000.0, \"Purchased\": 0}, {\"User ID\": 15646091, \"Gender\": \"Female\", \"Age\": 46.0, \"EstimatedSalary\": 32000.0, \"Purchased\": 1}, {\"User ID\": 15596984, \"Gender\": \"Female\", \"Age\": 46.0, \"EstimatedSalary\": 74000.0, \"Purchased\": 0}, {\"User ID\": 15800215, \"Gender\": \"Female\", \"Age\": 42.0, \"EstimatedSalary\": 53000.0, \"Purchased\": 0}, {\"User ID\": 15577806, \"Gender\": \"Male\", \"Age\": 41.0, \"EstimatedSalary\": 87000.0, \"Purchased\": 1}, {\"User ID\": 15749381, \"Gender\": \"Female\", \"Age\": 58.0, \"EstimatedSalary\": 23000.0, \"Purchased\": 1}, {\"User ID\": 15683758, \"Gender\": \"Male\", \"Age\": 42.0, \"EstimatedSalary\": 64000.0, \"Purchased\": 0}, {\"User ID\": 15670615, \"Gender\": \"Male\", \"Age\": 48.0, \"EstimatedSalary\": 33000.0, \"Purchased\": 1}, {\"User ID\": 15715622, \"Gender\": \"Female\", \"Age\": 44.0, \"EstimatedSalary\": 139000.0, \"Purchased\": 1}, {\"User ID\": 15707634, \"Gender\": \"Male\", \"Age\": 49.0, \"EstimatedSalary\": 28000.0, \"Purchased\": 1}, {\"User ID\": 15806901, \"Gender\": \"Female\", \"Age\": 57.0, \"EstimatedSalary\": 33000.0, \"Purchased\": 1}, {\"User ID\": 15775335, \"Gender\": \"Male\", \"Age\": 56.0, \"EstimatedSalary\": 60000.0, \"Purchased\": 1}, {\"User ID\": 15724150, \"Gender\": \"Female\", \"Age\": 49.0, \"EstimatedSalary\": 39000.0, \"Purchased\": 1}, {\"User ID\": 15627220, \"Gender\": \"Male\", \"Age\": 39.0, \"EstimatedSalary\": 71000.0, \"Purchased\": 0}, {\"User ID\": 15672330, \"Gender\": \"Male\", \"Age\": 47.0, \"EstimatedSalary\": 34000.0, \"Purchased\": 1}, {\"User ID\": 15668521, \"Gender\": \"Female\", \"Age\": 48.0, \"EstimatedSalary\": 35000.0, \"Purchased\": 1}, {\"User ID\": 15807837, \"Gender\": \"Male\", \"Age\": 48.0, \"EstimatedSalary\": 33000.0, \"Purchased\": 1}, {\"User ID\": 15592570, \"Gender\": \"Male\", \"Age\": 47.0, \"EstimatedSalary\": 23000.0, \"Purchased\": 1}, {\"User ID\": 15748589, \"Gender\": \"Female\", \"Age\": 45.0, \"EstimatedSalary\": 45000.0, \"Purchased\": 1}, {\"User ID\": 15635893, \"Gender\": \"Male\", \"Age\": 60.0, \"EstimatedSalary\": 42000.0, \"Purchased\": 1}, {\"User ID\": 15757632, \"Gender\": \"Female\", \"Age\": 39.0, \"EstimatedSalary\": 59000.0, \"Purchased\": 0}, {\"User ID\": 15691863, \"Gender\": \"Female\", \"Age\": 46.0, \"EstimatedSalary\": 41000.0, \"Purchased\": 1}, {\"User ID\": 15706071, \"Gender\": \"Male\", \"Age\": 51.0, \"EstimatedSalary\": 23000.0, \"Purchased\": 1}, {\"User ID\": 15654296, \"Gender\": \"Female\", \"Age\": 50.0, \"EstimatedSalary\": 20000.0, \"Purchased\": 1}, {\"User ID\": 15755018, \"Gender\": \"Male\", \"Age\": 36.0, \"EstimatedSalary\": 33000.0, \"Purchased\": 0}, {\"User ID\": 15594041, \"Gender\": \"Female\", \"Age\": 49.0, \"EstimatedSalary\": 36000.0, \"Purchased\": 1}]}}, {\"mode\": \"vega-lite\"});\n",
              "</script>"
            ],
            "text/plain": [
              "alt.Chart(...)"
            ]
          },
          "metadata": {},
          "execution_count": 4
        }
      ]
    },
    {
      "cell_type": "code",
      "source": [
        "dataset.shape"
      ],
      "metadata": {
        "colab": {
          "base_uri": "https://localhost:8080/"
        },
        "id": "PWEI6X8qMeUO",
        "outputId": "cd0bb9d6-f596-44f9-dade-0b2bf63b13e5"
      },
      "execution_count": 5,
      "outputs": [
        {
          "output_type": "execute_result",
          "data": {
            "text/plain": [
              "(400, 5)"
            ]
          },
          "metadata": {},
          "execution_count": 5
        }
      ]
    },
    {
      "cell_type": "code",
      "source": [
        "dataset.size"
      ],
      "metadata": {
        "colab": {
          "base_uri": "https://localhost:8080/"
        },
        "id": "nms-iehdMhm9",
        "outputId": "d88d6907-7766-439f-93f2-3dfeae36b2f9"
      },
      "execution_count": 6,
      "outputs": [
        {
          "output_type": "execute_result",
          "data": {
            "text/plain": [
              "2000"
            ]
          },
          "metadata": {},
          "execution_count": 6
        }
      ]
    },
    {
      "cell_type": "code",
      "source": [
        "dataset.info()"
      ],
      "metadata": {
        "colab": {
          "base_uri": "https://localhost:8080/"
        },
        "id": "FyYAPfbxMnqi",
        "outputId": "a9ad9a9e-eef0-4b6d-daa6-031906e3ab84"
      },
      "execution_count": 7,
      "outputs": [
        {
          "output_type": "stream",
          "name": "stdout",
          "text": [
            "<class 'pandas.core.frame.DataFrame'>\n",
            "RangeIndex: 400 entries, 0 to 399\n",
            "Data columns (total 5 columns):\n",
            " #   Column           Non-Null Count  Dtype  \n",
            "---  ------           --------------  -----  \n",
            " 0   User ID          400 non-null    int64  \n",
            " 1   Gender           400 non-null    object \n",
            " 2   Age              400 non-null    float64\n",
            " 3   EstimatedSalary  400 non-null    float64\n",
            " 4   Purchased        400 non-null    int64  \n",
            "dtypes: float64(2), int64(2), object(1)\n",
            "memory usage: 15.8+ KB\n"
          ]
        }
      ]
    },
    {
      "cell_type": "code",
      "source": [
        "dataset.describe()"
      ],
      "metadata": {
        "colab": {
          "base_uri": "https://localhost:8080/",
          "height": 300
        },
        "id": "_vUUYq0pMqTv",
        "outputId": "23f19913-9295-4fef-daea-7854a2620948"
      },
      "execution_count": 8,
      "outputs": [
        {
          "output_type": "execute_result",
          "data": {
            "text/plain": [
              "            User ID         Age  EstimatedSalary   Purchased\n",
              "count  4.000000e+02  400.000000       400.000000  400.000000\n",
              "mean   1.569154e+07   37.655000     69742.500000    0.357500\n",
              "std    7.165832e+04   10.482877     34096.960282    0.479864\n",
              "min    1.556669e+07   18.000000     15000.000000    0.000000\n",
              "25%    1.562676e+07   29.750000     43000.000000    0.000000\n",
              "50%    1.569434e+07   37.000000     70000.000000    0.000000\n",
              "75%    1.575036e+07   46.000000     88000.000000    1.000000\n",
              "max    1.581524e+07   60.000000    150000.000000    1.000000"
            ],
            "text/html": [
              "\n",
              "  <div id=\"df-c311cbc9-f8e7-488a-9af2-1ddbcd17213f\" class=\"colab-df-container\">\n",
              "    <div>\n",
              "<style scoped>\n",
              "    .dataframe tbody tr th:only-of-type {\n",
              "        vertical-align: middle;\n",
              "    }\n",
              "\n",
              "    .dataframe tbody tr th {\n",
              "        vertical-align: top;\n",
              "    }\n",
              "\n",
              "    .dataframe thead th {\n",
              "        text-align: right;\n",
              "    }\n",
              "</style>\n",
              "<table border=\"1\" class=\"dataframe\">\n",
              "  <thead>\n",
              "    <tr style=\"text-align: right;\">\n",
              "      <th></th>\n",
              "      <th>User ID</th>\n",
              "      <th>Age</th>\n",
              "      <th>EstimatedSalary</th>\n",
              "      <th>Purchased</th>\n",
              "    </tr>\n",
              "  </thead>\n",
              "  <tbody>\n",
              "    <tr>\n",
              "      <th>count</th>\n",
              "      <td>4.000000e+02</td>\n",
              "      <td>400.000000</td>\n",
              "      <td>400.000000</td>\n",
              "      <td>400.000000</td>\n",
              "    </tr>\n",
              "    <tr>\n",
              "      <th>mean</th>\n",
              "      <td>1.569154e+07</td>\n",
              "      <td>37.655000</td>\n",
              "      <td>69742.500000</td>\n",
              "      <td>0.357500</td>\n",
              "    </tr>\n",
              "    <tr>\n",
              "      <th>std</th>\n",
              "      <td>7.165832e+04</td>\n",
              "      <td>10.482877</td>\n",
              "      <td>34096.960282</td>\n",
              "      <td>0.479864</td>\n",
              "    </tr>\n",
              "    <tr>\n",
              "      <th>min</th>\n",
              "      <td>1.556669e+07</td>\n",
              "      <td>18.000000</td>\n",
              "      <td>15000.000000</td>\n",
              "      <td>0.000000</td>\n",
              "    </tr>\n",
              "    <tr>\n",
              "      <th>25%</th>\n",
              "      <td>1.562676e+07</td>\n",
              "      <td>29.750000</td>\n",
              "      <td>43000.000000</td>\n",
              "      <td>0.000000</td>\n",
              "    </tr>\n",
              "    <tr>\n",
              "      <th>50%</th>\n",
              "      <td>1.569434e+07</td>\n",
              "      <td>37.000000</td>\n",
              "      <td>70000.000000</td>\n",
              "      <td>0.000000</td>\n",
              "    </tr>\n",
              "    <tr>\n",
              "      <th>75%</th>\n",
              "      <td>1.575036e+07</td>\n",
              "      <td>46.000000</td>\n",
              "      <td>88000.000000</td>\n",
              "      <td>1.000000</td>\n",
              "    </tr>\n",
              "    <tr>\n",
              "      <th>max</th>\n",
              "      <td>1.581524e+07</td>\n",
              "      <td>60.000000</td>\n",
              "      <td>150000.000000</td>\n",
              "      <td>1.000000</td>\n",
              "    </tr>\n",
              "  </tbody>\n",
              "</table>\n",
              "</div>\n",
              "    <div class=\"colab-df-buttons\">\n",
              "\n",
              "  <div class=\"colab-df-container\">\n",
              "    <button class=\"colab-df-convert\" onclick=\"convertToInteractive('df-c311cbc9-f8e7-488a-9af2-1ddbcd17213f')\"\n",
              "            title=\"Convert this dataframe to an interactive table.\"\n",
              "            style=\"display:none;\">\n",
              "\n",
              "  <svg xmlns=\"http://www.w3.org/2000/svg\" height=\"24px\" viewBox=\"0 -960 960 960\">\n",
              "    <path d=\"M120-120v-720h720v720H120Zm60-500h600v-160H180v160Zm220 220h160v-160H400v160Zm0 220h160v-160H400v160ZM180-400h160v-160H180v160Zm440 0h160v-160H620v160ZM180-180h160v-160H180v160Zm440 0h160v-160H620v160Z\"/>\n",
              "  </svg>\n",
              "    </button>\n",
              "\n",
              "  <style>\n",
              "    .colab-df-container {\n",
              "      display:flex;\n",
              "      gap: 12px;\n",
              "    }\n",
              "\n",
              "    .colab-df-convert {\n",
              "      background-color: #E8F0FE;\n",
              "      border: none;\n",
              "      border-radius: 50%;\n",
              "      cursor: pointer;\n",
              "      display: none;\n",
              "      fill: #1967D2;\n",
              "      height: 32px;\n",
              "      padding: 0 0 0 0;\n",
              "      width: 32px;\n",
              "    }\n",
              "\n",
              "    .colab-df-convert:hover {\n",
              "      background-color: #E2EBFA;\n",
              "      box-shadow: 0px 1px 2px rgba(60, 64, 67, 0.3), 0px 1px 3px 1px rgba(60, 64, 67, 0.15);\n",
              "      fill: #174EA6;\n",
              "    }\n",
              "\n",
              "    .colab-df-buttons div {\n",
              "      margin-bottom: 4px;\n",
              "    }\n",
              "\n",
              "    [theme=dark] .colab-df-convert {\n",
              "      background-color: #3B4455;\n",
              "      fill: #D2E3FC;\n",
              "    }\n",
              "\n",
              "    [theme=dark] .colab-df-convert:hover {\n",
              "      background-color: #434B5C;\n",
              "      box-shadow: 0px 1px 3px 1px rgba(0, 0, 0, 0.15);\n",
              "      filter: drop-shadow(0px 1px 2px rgba(0, 0, 0, 0.3));\n",
              "      fill: #FFFFFF;\n",
              "    }\n",
              "  </style>\n",
              "\n",
              "    <script>\n",
              "      const buttonEl =\n",
              "        document.querySelector('#df-c311cbc9-f8e7-488a-9af2-1ddbcd17213f button.colab-df-convert');\n",
              "      buttonEl.style.display =\n",
              "        google.colab.kernel.accessAllowed ? 'block' : 'none';\n",
              "\n",
              "      async function convertToInteractive(key) {\n",
              "        const element = document.querySelector('#df-c311cbc9-f8e7-488a-9af2-1ddbcd17213f');\n",
              "        const dataTable =\n",
              "          await google.colab.kernel.invokeFunction('convertToInteractive',\n",
              "                                                    [key], {});\n",
              "        if (!dataTable) return;\n",
              "\n",
              "        const docLinkHtml = 'Like what you see? Visit the ' +\n",
              "          '<a target=\"_blank\" href=https://colab.research.google.com/notebooks/data_table.ipynb>data table notebook</a>'\n",
              "          + ' to learn more about interactive tables.';\n",
              "        element.innerHTML = '';\n",
              "        dataTable['output_type'] = 'display_data';\n",
              "        await google.colab.output.renderOutput(dataTable, element);\n",
              "        const docLink = document.createElement('div');\n",
              "        docLink.innerHTML = docLinkHtml;\n",
              "        element.appendChild(docLink);\n",
              "      }\n",
              "    </script>\n",
              "  </div>\n",
              "\n",
              "\n",
              "<div id=\"df-14369a72-5248-4908-8895-81c427571910\">\n",
              "  <button class=\"colab-df-quickchart\" onclick=\"quickchart('df-14369a72-5248-4908-8895-81c427571910')\"\n",
              "            title=\"Suggest charts\"\n",
              "            style=\"display:none;\">\n",
              "\n",
              "<svg xmlns=\"http://www.w3.org/2000/svg\" height=\"24px\"viewBox=\"0 0 24 24\"\n",
              "     width=\"24px\">\n",
              "    <g>\n",
              "        <path d=\"M19 3H5c-1.1 0-2 .9-2 2v14c0 1.1.9 2 2 2h14c1.1 0 2-.9 2-2V5c0-1.1-.9-2-2-2zM9 17H7v-7h2v7zm4 0h-2V7h2v10zm4 0h-2v-4h2v4z\"/>\n",
              "    </g>\n",
              "</svg>\n",
              "  </button>\n",
              "\n",
              "<style>\n",
              "  .colab-df-quickchart {\n",
              "      --bg-color: #E8F0FE;\n",
              "      --fill-color: #1967D2;\n",
              "      --hover-bg-color: #E2EBFA;\n",
              "      --hover-fill-color: #174EA6;\n",
              "      --disabled-fill-color: #AAA;\n",
              "      --disabled-bg-color: #DDD;\n",
              "  }\n",
              "\n",
              "  [theme=dark] .colab-df-quickchart {\n",
              "      --bg-color: #3B4455;\n",
              "      --fill-color: #D2E3FC;\n",
              "      --hover-bg-color: #434B5C;\n",
              "      --hover-fill-color: #FFFFFF;\n",
              "      --disabled-bg-color: #3B4455;\n",
              "      --disabled-fill-color: #666;\n",
              "  }\n",
              "\n",
              "  .colab-df-quickchart {\n",
              "    background-color: var(--bg-color);\n",
              "    border: none;\n",
              "    border-radius: 50%;\n",
              "    cursor: pointer;\n",
              "    display: none;\n",
              "    fill: var(--fill-color);\n",
              "    height: 32px;\n",
              "    padding: 0;\n",
              "    width: 32px;\n",
              "  }\n",
              "\n",
              "  .colab-df-quickchart:hover {\n",
              "    background-color: var(--hover-bg-color);\n",
              "    box-shadow: 0 1px 2px rgba(60, 64, 67, 0.3), 0 1px 3px 1px rgba(60, 64, 67, 0.15);\n",
              "    fill: var(--button-hover-fill-color);\n",
              "  }\n",
              "\n",
              "  .colab-df-quickchart-complete:disabled,\n",
              "  .colab-df-quickchart-complete:disabled:hover {\n",
              "    background-color: var(--disabled-bg-color);\n",
              "    fill: var(--disabled-fill-color);\n",
              "    box-shadow: none;\n",
              "  }\n",
              "\n",
              "  .colab-df-spinner {\n",
              "    border: 2px solid var(--fill-color);\n",
              "    border-color: transparent;\n",
              "    border-bottom-color: var(--fill-color);\n",
              "    animation:\n",
              "      spin 1s steps(1) infinite;\n",
              "  }\n",
              "\n",
              "  @keyframes spin {\n",
              "    0% {\n",
              "      border-color: transparent;\n",
              "      border-bottom-color: var(--fill-color);\n",
              "      border-left-color: var(--fill-color);\n",
              "    }\n",
              "    20% {\n",
              "      border-color: transparent;\n",
              "      border-left-color: var(--fill-color);\n",
              "      border-top-color: var(--fill-color);\n",
              "    }\n",
              "    30% {\n",
              "      border-color: transparent;\n",
              "      border-left-color: var(--fill-color);\n",
              "      border-top-color: var(--fill-color);\n",
              "      border-right-color: var(--fill-color);\n",
              "    }\n",
              "    40% {\n",
              "      border-color: transparent;\n",
              "      border-right-color: var(--fill-color);\n",
              "      border-top-color: var(--fill-color);\n",
              "    }\n",
              "    60% {\n",
              "      border-color: transparent;\n",
              "      border-right-color: var(--fill-color);\n",
              "    }\n",
              "    80% {\n",
              "      border-color: transparent;\n",
              "      border-right-color: var(--fill-color);\n",
              "      border-bottom-color: var(--fill-color);\n",
              "    }\n",
              "    90% {\n",
              "      border-color: transparent;\n",
              "      border-bottom-color: var(--fill-color);\n",
              "    }\n",
              "  }\n",
              "</style>\n",
              "\n",
              "  <script>\n",
              "    async function quickchart(key) {\n",
              "      const quickchartButtonEl =\n",
              "        document.querySelector('#' + key + ' button');\n",
              "      quickchartButtonEl.disabled = true;  // To prevent multiple clicks.\n",
              "      quickchartButtonEl.classList.add('colab-df-spinner');\n",
              "      try {\n",
              "        const charts = await google.colab.kernel.invokeFunction(\n",
              "            'suggestCharts', [key], {});\n",
              "      } catch (error) {\n",
              "        console.error('Error during call to suggestCharts:', error);\n",
              "      }\n",
              "      quickchartButtonEl.classList.remove('colab-df-spinner');\n",
              "      quickchartButtonEl.classList.add('colab-df-quickchart-complete');\n",
              "    }\n",
              "    (() => {\n",
              "      let quickchartButtonEl =\n",
              "        document.querySelector('#df-14369a72-5248-4908-8895-81c427571910 button');\n",
              "      quickchartButtonEl.style.display =\n",
              "        google.colab.kernel.accessAllowed ? 'block' : 'none';\n",
              "    })();\n",
              "  </script>\n",
              "</div>\n",
              "\n",
              "    </div>\n",
              "  </div>\n"
            ],
            "application/vnd.google.colaboratory.intrinsic+json": {
              "type": "dataframe",
              "summary": "{\n  \"name\": \"dataset\",\n  \"rows\": 8,\n  \"fields\": [\n    {\n      \"column\": \"User ID\",\n      \"properties\": {\n        \"dtype\": \"number\",\n        \"std\": 7247165.99146923,\n        \"min\": 400.0,\n        \"max\": 15815236.0,\n        \"num_unique_values\": 8,\n        \"samples\": [\n          15691539.7575,\n          15694341.5,\n          400.0\n        ],\n        \"semantic_type\": \"\",\n        \"description\": \"\"\n      }\n    },\n    {\n      \"column\": \"Age\",\n      \"properties\": {\n        \"dtype\": \"number\",\n        \"std\": 130.27423677374767,\n        \"min\": 10.482876597307914,\n        \"max\": 400.0,\n        \"num_unique_values\": 8,\n        \"samples\": [\n          37.655,\n          37.0,\n          400.0\n        ],\n        \"semantic_type\": \"\",\n        \"description\": \"\"\n      }\n    },\n    {\n      \"column\": \"EstimatedSalary\",\n      \"properties\": {\n        \"dtype\": \"number\",\n        \"std\": 47214.004060407126,\n        \"min\": 400.0,\n        \"max\": 150000.0,\n        \"num_unique_values\": 8,\n        \"samples\": [\n          69742.5,\n          70000.0,\n          400.0\n        ],\n        \"semantic_type\": \"\",\n        \"description\": \"\"\n      }\n    },\n    {\n      \"column\": \"Purchased\",\n      \"properties\": {\n        \"dtype\": \"number\",\n        \"std\": 141.27865845809384,\n        \"min\": 0.0,\n        \"max\": 400.0,\n        \"num_unique_values\": 5,\n        \"samples\": [\n          0.3575,\n          1.0,\n          0.479863963596869\n        ],\n        \"semantic_type\": \"\",\n        \"description\": \"\"\n      }\n    }\n  ]\n}"
            }
          },
          "metadata": {},
          "execution_count": 8
        }
      ]
    },
    {
      "cell_type": "code",
      "source": [
        "dataset.count()"
      ],
      "metadata": {
        "colab": {
          "base_uri": "https://localhost:8080/"
        },
        "id": "EmS9GW4KMv6M",
        "outputId": "83eb1ba2-00f5-4e03-9421-f74d57b022e8"
      },
      "execution_count": 9,
      "outputs": [
        {
          "output_type": "execute_result",
          "data": {
            "text/plain": [
              "User ID            400\n",
              "Gender             400\n",
              "Age                400\n",
              "EstimatedSalary    400\n",
              "Purchased          400\n",
              "dtype: int64"
            ]
          },
          "metadata": {},
          "execution_count": 9
        }
      ]
    },
    {
      "cell_type": "code",
      "source": [
        "# Splitting the dataset into the Training set and Test set\n",
        "from sklearn.model_selection import train_test_split\n",
        "X_train, X_test, y_train, y_test = train_test_split(X, y, test_size = 0.25, random_state = 0)"
      ],
      "metadata": {
        "id": "gY8cZtgOLlrB"
      },
      "execution_count": 10,
      "outputs": []
    },
    {
      "cell_type": "code",
      "source": [
        "# Feature Scaling\n",
        "from sklearn.preprocessing import StandardScaler\n",
        "sc = StandardScaler()\n",
        "X_train = sc.fit_transform(X_train)\n",
        "X_test = sc.transform(X_test)"
      ],
      "metadata": {
        "id": "tji4n9zgLnGQ"
      },
      "execution_count": 11,
      "outputs": []
    },
    {
      "cell_type": "code",
      "source": [
        "# Fitting Logistic Regression to the Training set\n",
        "from sklearn.linear_model import LogisticRegression\n",
        "log_reg = LogisticRegression(random_state = 0)\n",
        "log_reg.fit(X_train, y_train)"
      ],
      "metadata": {
        "colab": {
          "base_uri": "https://localhost:8080/",
          "height": 74
        },
        "id": "hKdfDDm-LpMk",
        "outputId": "1aa50231-f956-4f35-a17a-10548ab37742"
      },
      "execution_count": 12,
      "outputs": [
        {
          "output_type": "execute_result",
          "data": {
            "text/plain": [
              "LogisticRegression(random_state=0)"
            ],
            "text/html": [
              "<style>#sk-container-id-1 {color: black;background-color: white;}#sk-container-id-1 pre{padding: 0;}#sk-container-id-1 div.sk-toggleable {background-color: white;}#sk-container-id-1 label.sk-toggleable__label {cursor: pointer;display: block;width: 100%;margin-bottom: 0;padding: 0.3em;box-sizing: border-box;text-align: center;}#sk-container-id-1 label.sk-toggleable__label-arrow:before {content: \"▸\";float: left;margin-right: 0.25em;color: #696969;}#sk-container-id-1 label.sk-toggleable__label-arrow:hover:before {color: black;}#sk-container-id-1 div.sk-estimator:hover label.sk-toggleable__label-arrow:before {color: black;}#sk-container-id-1 div.sk-toggleable__content {max-height: 0;max-width: 0;overflow: hidden;text-align: left;background-color: #f0f8ff;}#sk-container-id-1 div.sk-toggleable__content pre {margin: 0.2em;color: black;border-radius: 0.25em;background-color: #f0f8ff;}#sk-container-id-1 input.sk-toggleable__control:checked~div.sk-toggleable__content {max-height: 200px;max-width: 100%;overflow: auto;}#sk-container-id-1 input.sk-toggleable__control:checked~label.sk-toggleable__label-arrow:before {content: \"▾\";}#sk-container-id-1 div.sk-estimator input.sk-toggleable__control:checked~label.sk-toggleable__label {background-color: #d4ebff;}#sk-container-id-1 div.sk-label input.sk-toggleable__control:checked~label.sk-toggleable__label {background-color: #d4ebff;}#sk-container-id-1 input.sk-hidden--visually {border: 0;clip: rect(1px 1px 1px 1px);clip: rect(1px, 1px, 1px, 1px);height: 1px;margin: -1px;overflow: hidden;padding: 0;position: absolute;width: 1px;}#sk-container-id-1 div.sk-estimator {font-family: monospace;background-color: #f0f8ff;border: 1px dotted black;border-radius: 0.25em;box-sizing: border-box;margin-bottom: 0.5em;}#sk-container-id-1 div.sk-estimator:hover {background-color: #d4ebff;}#sk-container-id-1 div.sk-parallel-item::after {content: \"\";width: 100%;border-bottom: 1px solid gray;flex-grow: 1;}#sk-container-id-1 div.sk-label:hover label.sk-toggleable__label {background-color: #d4ebff;}#sk-container-id-1 div.sk-serial::before {content: \"\";position: absolute;border-left: 1px solid gray;box-sizing: border-box;top: 0;bottom: 0;left: 50%;z-index: 0;}#sk-container-id-1 div.sk-serial {display: flex;flex-direction: column;align-items: center;background-color: white;padding-right: 0.2em;padding-left: 0.2em;position: relative;}#sk-container-id-1 div.sk-item {position: relative;z-index: 1;}#sk-container-id-1 div.sk-parallel {display: flex;align-items: stretch;justify-content: center;background-color: white;position: relative;}#sk-container-id-1 div.sk-item::before, #sk-container-id-1 div.sk-parallel-item::before {content: \"\";position: absolute;border-left: 1px solid gray;box-sizing: border-box;top: 0;bottom: 0;left: 50%;z-index: -1;}#sk-container-id-1 div.sk-parallel-item {display: flex;flex-direction: column;z-index: 1;position: relative;background-color: white;}#sk-container-id-1 div.sk-parallel-item:first-child::after {align-self: flex-end;width: 50%;}#sk-container-id-1 div.sk-parallel-item:last-child::after {align-self: flex-start;width: 50%;}#sk-container-id-1 div.sk-parallel-item:only-child::after {width: 0;}#sk-container-id-1 div.sk-dashed-wrapped {border: 1px dashed gray;margin: 0 0.4em 0.5em 0.4em;box-sizing: border-box;padding-bottom: 0.4em;background-color: white;}#sk-container-id-1 div.sk-label label {font-family: monospace;font-weight: bold;display: inline-block;line-height: 1.2em;}#sk-container-id-1 div.sk-label-container {text-align: center;}#sk-container-id-1 div.sk-container {/* jupyter's `normalize.less` sets `[hidden] { display: none; }` but bootstrap.min.css set `[hidden] { display: none !important; }` so we also need the `!important` here to be able to override the default hidden behavior on the sphinx rendered scikit-learn.org. See: https://github.com/scikit-learn/scikit-learn/issues/21755 */display: inline-block !important;position: relative;}#sk-container-id-1 div.sk-text-repr-fallback {display: none;}</style><div id=\"sk-container-id-1\" class=\"sk-top-container\"><div class=\"sk-text-repr-fallback\"><pre>LogisticRegression(random_state=0)</pre><b>In a Jupyter environment, please rerun this cell to show the HTML representation or trust the notebook. <br />On GitHub, the HTML representation is unable to render, please try loading this page with nbviewer.org.</b></div><div class=\"sk-container\" hidden><div class=\"sk-item\"><div class=\"sk-estimator sk-toggleable\"><input class=\"sk-toggleable__control sk-hidden--visually\" id=\"sk-estimator-id-1\" type=\"checkbox\" checked><label for=\"sk-estimator-id-1\" class=\"sk-toggleable__label sk-toggleable__label-arrow\">LogisticRegression</label><div class=\"sk-toggleable__content\"><pre>LogisticRegression(random_state=0)</pre></div></div></div></div></div>"
            ]
          },
          "metadata": {},
          "execution_count": 12
        }
      ]
    },
    {
      "cell_type": "code",
      "source": [
        "# Predicting the Test set results\n",
        "y_pred = log_reg.predict(X_test)"
      ],
      "metadata": {
        "id": "58vAE2qSLu_Y"
      },
      "execution_count": 13,
      "outputs": []
    },
    {
      "cell_type": "code",
      "source": [
        "# Making the Confusion Matrix\n",
        "from sklearn.metrics import confusion_matrix\n",
        "cm = confusion_matrix(y_test, y_pred)\n",
        "cm"
      ],
      "metadata": {
        "id": "dJ5JmH7tLwS6",
        "colab": {
          "base_uri": "https://localhost:8080/"
        },
        "outputId": "1f52cb35-79b2-4c7e-f803-57783fb4b889"
      },
      "execution_count": 14,
      "outputs": [
        {
          "output_type": "execute_result",
          "data": {
            "text/plain": [
              "array([[65,  3],\n",
              "       [ 8, 24]])"
            ]
          },
          "metadata": {},
          "execution_count": 14
        }
      ]
    },
    {
      "cell_type": "code",
      "source": [
        "(65+24)/(65+3+8+24)"
      ],
      "metadata": {
        "colab": {
          "base_uri": "https://localhost:8080/"
        },
        "id": "BWebqBbhqxwG",
        "outputId": "77365f41-03b4-446e-ff8c-5bcd91703249"
      },
      "execution_count": 15,
      "outputs": [
        {
          "output_type": "execute_result",
          "data": {
            "text/plain": [
              "0.89"
            ]
          },
          "metadata": {},
          "execution_count": 15
        }
      ]
    },
    {
      "cell_type": "code",
      "source": [
        "# Visualising the Training set results\n",
        "from matplotlib.colors import ListedColormap\n",
        "X_set, y_set = X_train, y_train\n",
        "X1, X2 = np.meshgrid(np.arange(start = X_set[:, 0].min() - 1, stop = X_set[:, 0].max() + 1, step = 0.01),\n",
        "                     np.arange(start = X_set[:, 1].min() - 1, stop = X_set[:, 1].max() + 1, step = 0.01))\n",
        "plt.contourf(X1, X2, log_reg.predict(np.array([X1.ravel(), X2.ravel()]).T).reshape(X1.shape),\n",
        "             alpha = 0.75, cmap = ListedColormap(('red', 'green')))\n",
        "plt.xlim(X1.min(), X1.max())\n",
        "plt.ylim(X2.min(), X2.max())\n",
        "for i, j in enumerate(np.unique(y_set)):\n",
        "    plt.scatter(X_set[y_set == j, 0], X_set[y_set == j, 1],\n",
        "                c = ListedColormap(('red', 'green'))(i), label = j)\n",
        "plt.title('Logistic Regression (Training set)')\n",
        "plt.xlabel('Age')\n",
        "plt.ylabel('Estimated Salary')\n",
        "plt.legend()\n",
        "plt.show()"
      ],
      "metadata": {
        "colab": {
          "base_uri": "https://localhost:8080/",
          "height": 527
        },
        "id": "OIiTWb7LLyGM",
        "outputId": "83b5352b-6026-4cba-a08b-7278500ef143"
      },
      "execution_count": 16,
      "outputs": [
        {
          "output_type": "stream",
          "name": "stderr",
          "text": [
            "<ipython-input-16-823fbf815cbe>:11: UserWarning: *c* argument looks like a single numeric RGB or RGBA sequence, which should be avoided as value-mapping will have precedence in case its length matches with *x* & *y*.  Please use the *color* keyword-argument or provide a 2D array with a single row if you intend to specify the same RGB or RGBA value for all points.\n",
            "  plt.scatter(X_set[y_set == j, 0], X_set[y_set == j, 1],\n"
          ]
        },
        {
          "output_type": "display_data",
          "data": {
            "text/plain": [
              "<Figure size 640x480 with 1 Axes>"
            ],
            "image/png": "[encoded data removed]"
          },
          "metadata": {}
        }
      ]
    },
    {
      "cell_type": "code",
      "source": [
        "# Visualising the Test set results\n",
        "from matplotlib.colors import ListedColormap\n",
        "X_set, y_set = X_test, y_test\n",
        "X1, X2 = np.meshgrid(np.arange(start = X_set[:, 0].min() - 1, stop = X_set[:, 0].max() + 1, step = 0.01),\n",
        "                     np.arange(start = X_set[:, 1].min() - 1, stop = X_set[:, 1].max() + 1, step = 0.01))\n",
        "plt.contourf(X1, X2, log_reg.predict(np.array([X1.ravel(), X2.ravel()]).T).reshape(X1.shape),\n",
        "             alpha = 0.75, cmap = ListedColormap(('red', 'green')))\n",
        "plt.xlim(X1.min(), X1.max())\n",
        "plt.ylim(X2.min(), X2.max())\n",
        "for i, j in enumerate(np.unique(y_set)):\n",
        "    plt.scatter(X_set[y_set == j, 0], X_set[y_set == j, 1],\n",
        "                c = ListedColormap(('red', 'green'))(i), label = j)\n",
        "plt.title('Logistic Regression (Test set)')\n",
        "plt.xlabel('Age')\n",
        "plt.ylabel('Estimated Salary')\n",
        "plt.legend()\n",
        "plt.show()"
      ],
      "metadata": {
        "colab": {
          "base_uri": "https://localhost:8080/",
          "height": 527
        },
        "id": "7vmjUaNFL1EA",
        "outputId": "7d916ab6-6b38-4273-eb89-2514a8ed43a9"
      },
      "execution_count": 17,
      "outputs": [
        {
          "output_type": "stream",
          "name": "stderr",
          "text": [
            "<ipython-input-17-5b78818d4722>:11: UserWarning: *c* argument looks like a single numeric RGB or RGBA sequence, which should be avoided as value-mapping will have precedence in case its length matches with *x* & *y*.  Please use the *color* keyword-argument or provide a 2D array with a single row if you intend to specify the same RGB or RGBA value for all points.\n",
            "  plt.scatter(X_set[y_set == j, 0], X_set[y_set == j, 1],\n"
          ]
        },
        {
          "output_type": "display_data",
          "data": {
            "text/plain": [
              "<Figure size 640x480 with 1 Axes>"
            ],
            "image/png": "[encoded data removed]"
          },
          "metadata": {}
        }
      ]
    }
  ]
}